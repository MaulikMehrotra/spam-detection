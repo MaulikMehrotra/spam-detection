{
 "cells": [
  {
   "cell_type": "code",
   "execution_count": 1,
   "metadata": {},
   "outputs": [],
   "source": [
    "import pandas as pd\n",
    "import numpy as np\n",
    "import matplotlib.pyplot as plt\n",
    "import seaborn as sns\n",
    "import nltk \n",
    "from sklearn.naive_bayes import MultinomialNB,GaussianNB,BernoulliNB\n",
    "from nltk.corpus import stopwords\n",
    "from nltk.stem.porter import PorterStemmer\n",
    "from sklearn.feature_extraction.text import CountVectorizer\n",
    "from sklearn.model_selection import train_test_split\n",
    "from sklearn.ensemble import RandomForestClassifier\n",
    "import string"
   ]
  },
  {
   "cell_type": "code",
   "execution_count": 2,
   "metadata": {},
   "outputs": [
    {
     "name": "stderr",
     "output_type": "stream",
     "text": [
      "[nltk_data] Downloading package stopwords to\n",
      "[nltk_data]     C:\\Users\\maxme\\AppData\\Roaming\\nltk_data...\n",
      "[nltk_data]   Package stopwords is already up-to-date!\n"
     ]
    },
    {
     "data": {
      "text/plain": [
       "True"
      ]
     },
     "execution_count": 2,
     "metadata": {},
     "output_type": "execute_result"
    }
   ],
   "source": [
    "nltk.download('stopwords')"
   ]
  },
  {
   "cell_type": "code",
   "execution_count": 3,
   "metadata": {},
   "outputs": [
    {
     "data": {
      "application/vnd.microsoft.datawrangler.viewer.v0+json": {
       "columns": [
        {
         "name": "index",
         "rawType": "int64",
         "type": "integer"
        },
        {
         "name": "Unnamed: 0",
         "rawType": "int64",
         "type": "integer"
        },
        {
         "name": "label",
         "rawType": "object",
         "type": "string"
        },
        {
         "name": "text",
         "rawType": "object",
         "type": "string"
        },
        {
         "name": "label_num",
         "rawType": "int64",
         "type": "integer"
        }
       ],
       "conversionMethod": "pd.DataFrame",
       "ref": "282efb75-686a-4019-bb7d-228f179b1701",
       "rows": [
        [
         "0",
         "605",
         "ham",
         "Subject: enron methanol ; meter # : 988291\r\nthis is a follow up to the note i gave you on monday , 4 / 3 / 00 { preliminary\r\nflow data provided by daren } .\r\nplease override pop ' s daily volume { presently zero } to reflect daily\r\nactivity you can obtain from gas control .\r\nthis change is needed asap for economics purposes .",
         "0"
        ],
        [
         "1",
         "2349",
         "ham",
         "Subject: hpl nom for january 9 , 2001\r\n( see attached file : hplnol 09 . xls )\r\n- hplnol 09 . xls",
         "0"
        ],
        [
         "2",
         "3624",
         "ham",
         "Subject: neon retreat\r\nho ho ho , we ' re around to that most wonderful time of the year - - - neon leaders retreat time !\r\ni know that this time of year is extremely hectic , and that it ' s tough to think about anything past the holidays , but life does go on past the week of december 25 through january 1 , and that ' s what i ' d like you to think about for a minute .\r\non the calender that i handed out at the beginning of the fall semester , the retreat was scheduled for the weekend of january 5 - 6 . but because of a youth ministers conference that brad and dustin are connected with that week , we ' re going to change the date to the following weekend , january 12 - 13 . now comes the part you need to think about .\r\ni think we all agree that it ' s important for us to get together and have some time to recharge our batteries before we get to far into the spring semester , but it can be a lot of trouble and difficult for us to get away without kids , etc . so , brad came up with a potential alternative for how we can get together on that weekend , and then you can let me know which you prefer .\r\nthe first option would be to have a retreat similar to what we ' ve done the past several years . this year we could go to the heartland country inn ( www . . com ) outside of brenham . it ' s a nice place , where we ' d have a 13 - bedroom and a 5 - bedroom house side by side . it ' s in the country , real relaxing , but also close to brenham and only about one hour and 15 minutes from here . we can golf , shop in the antique and craft stores in brenham , eat dinner together at the ranch , and spend time with each other . we ' d meet on saturday , and then return on sunday morning , just like what we ' ve done in the past .\r\nthe second option would be to stay here in houston , have dinner together at a nice restaurant , and then have dessert and a time for visiting and recharging at one of our homes on that saturday evening . this might be easier , but the trade off would be that we wouldn ' t have as much time together . i ' ll let you decide .\r\nemail me back with what would be your preference , and of course if you ' re available on that weekend . the democratic process will prevail - - majority vote will rule ! let me hear from you as soon as possible , preferably by the end of the weekend . and if the vote doesn ' t go your way , no complaining allowed ( like i tend to do ! )\r\nhave a great weekend , great golf , great fishing , great shopping , or whatever makes you happy !\r\nbobby",
         "0"
        ],
        [
         "3",
         "4685",
         "spam",
         "Subject: photoshop , windows , office . cheap . main trending\r\nabasements darer prudently fortuitous undergone\r\nlighthearted charm orinoco taster\r\nrailroad affluent pornographic cuvier\r\nirvin parkhouse blameworthy chlorophyll\r\nrobed diagrammatic fogarty clears bayda\r\ninconveniencing managing represented smartness hashish\r\nacademies shareholders unload badness\r\ndanielson pure caffein\r\nspaniard chargeable levin\r\n",
         "1"
        ],
        [
         "4",
         "2030",
         "ham",
         "Subject: re : indian springs\r\nthis deal is to book the teco pvr revenue . it is my understanding that teco\r\njust sends us a check , i haven ' t received an answer as to whether there is a\r\npredermined price associated with this deal or if teco just lets us know what\r\nwe are giving . i can continue to chase this deal down if you need .",
         "0"
        ],
        [
         "5",
         "2949",
         "ham",
         "Subject: ehronline web address change\r\nthis message is intended for ehronline users only .\r\ndue to a recent change to ehronline , the url ( aka \" web address \" ) for accessing ehronline needs to be changed on your computer . the change involves adding the letter \" s \" to the \" http \" reference in the url . the url for accessing ehronline should be : https : / / ehronline . enron . com .\r\nthis change should be made by those who have added the url as a favorite on the browser .",
         "0"
        ],
        [
         "6",
         "2793",
         "ham",
         "Subject: spring savings certificate - take 30 % off\r\nsave 30 % when you use our customer appreciation spring savings\r\ncertificate at foot locker , lady foot locker , kids foot locker and at\r\nour online stores !\r\nwelcome to our customer appreciation spring savings certificate !\r\nuse the special certificate below and receive 30 % off your purchases either in our stores or online . hurry ! this 4 - day sale begins thursday , march 22 and ends sunday , march 25 .\r\nshare the savings today and e - mail this offer to your friends . many items already are reduced and the 30 % discount is taken off the lowest sale price .\r\nclick below to print your customer appreciation spring savings certificate . you must present this coupon at any foot locker , lady foot locker or kids foot locker store in the u . s . foot locker canada is not participating in this program .\r\nready , set , save !\r\nour spring savings discount will automatically appear when you use the links below or type camlem 21 into the promotion code box during checkout .\r\nfootlocker . com certificate code : camlem 21\r\nladyfootlocker . com certificate code : camlem 21\r\nkidsfootlocker . com certificate code : camlem 21\r\nremember , returns are hassle - free . simply bring your items to any of our stores nationwide or through the mail .\r\ndon ' t be left out - register today to learn about our new products , promotions , events and other specials . simply click below .\r\nterms and conditions . some exclusions apply , please see manager for complete details . certificate must be presented at the time of purchase and cannot be used in conjunction with any other discount offer or associate benefit . not redeemable for cash . applicable taxes must be paid by bearer . cannot be applied to prior purchases or to gift card purchases . void where prohibited , licensed or regulated . catalog exclusions apply . valid thursday , 3 / 22 / 01 through sunday , 3 / 25 / 01 . foot locker canada will not participate in this program .\r\nif you do not wish to receive future emails please click below to\r\nunsubscribe :\r\n",
         "0"
        ],
        [
         "7",
         "4185",
         "spam",
         "Subject: looking for medication ? we ` re the best source .\r\nit is difficult to make our material condition better by the best law , but it is easy enough to ruin it by bad laws .\r\nexcuse me . . . : ) you just found the\r\nbest and simpliest site for\r\nmedication on the net . no perscription , easy\r\ndelivery .\r\nprivate , secure , and easy .\r\nbetter see rightly on a pound a week than squint on a million .\r\nwe ` ve got\r\nanything that you will ever want .\r\nerection treatment pills , anti - depressant pills , weight loss , and\r\nmore ! http : / / splicings . bombahakcx . com / 3 /\r\nknowledge and human power are synonymous .\r\nonly high - quality stuff for low rates !\r\n100 % moneyback guarantee !\r\nthere is no god , nature sufficeth unto herself in no wise hath she need of an author .",
         "1"
        ],
        [
         "8",
         "2641",
         "ham",
         "Subject: noms / actual flow for 2 / 26\r\nwe agree\r\n- - - - - - - - - - - - - - - - - - - - - - forwarded by melissa jones / texas utilities on\r\n02 / 27 / 2001\r\n10 : 33 am - - - - - - - - - - - - - - - - - - - - - - - - - - -\r\n\" eileen ponton \" on 02 / 27 / 2001 09 : 46 : 26 am\r\nto : david avila / lsp / enserch / us @ tu , charlie stone / texas utilities @ tu , melissa\r\njones / texas utilities @ tu , hpl . scheduling @ enron . com ,\r\nliz . bellamy @ enron . com\r\ncc :\r\nsubject : noms / actual flow for 2 / 26\r\ndate nom flow - mcf flow - mmbtu\r\n2 / 26 / 01 0 456 469\r\nbtu = 1 . 027",
         "0"
        ],
        [
         "9",
         "1870",
         "ham",
         "Subject: nominations for oct . 21 - 23 , 2000\r\n( see attached file : hplnl 021 . xls )\r\n- hplnl 021 . xls",
         "0"
        ],
        [
         "10",
         "4922",
         "spam",
         "Subject: vocable % rnd - word asceticism\r\nvcsc - brand new stock for your attention\r\nvocalscape inc - the stock symbol is : vcsc\r\nvcsc will be our top stock pick for the month of april - stock expected to\r\nbounce to 12 cents level\r\nthe stock hit its all time low and will bounce back\r\nstock is going to explode in next 5 days - watch it soar\r\nwatch the stock go crazy this and next week .\r\nbreaking news - vocalscape inc . announces agreement to resell mix network\r\nservices\r\ncurrent price : $ 0 . 025\r\nwe expect projected speculative price in next 5 days : $ 0 . 12\r\nwe expect projected speculative price in next 15 days : $ 0 . 15\r\nvocalscape networks inc . is building a company that ' s revolutionizing the\r\ntelecommunications industry with the most affordable phone systems , hardware ,\r\nonline software , and rates in canada and the us . vocalscape , a company with\r\nglobal reach , is receiving international attention for the development of voice\r\nover ip ( voip ) application solutions , including the award - winning eyefontm , a\r\nsoftphone for real - time pc - to - phone . we are an advanced implementer of pbx\r\nsystems for companies , call centers , itsps and service providers .\r\nvocalscape has created software and interactive solutions revolving around\r\nglobal communications and data voice convergence . companies use vocalscape for\r\nvoice over internet protocol applications like ip pbxs , softswitches , pc 2 phone\r\nand web 2 phone , providing real - time human interaction and information delivery\r\nover the internet . through vocalscape ' s solutions , businesses can offer a\r\nquality voice service to anywhere in the world at rates that are significantly\r\nlower than current long distance charges . we develop software to run voip\r\nnetworks , and sell , install and service our own branded voip gateways and\r\ngatekeeper control software . we also license our software to customers who want\r\nto brand their own voip solutions .\r\nvocalscape is committed to making great technology ; challenging the status quo ,\r\nand building a 21 st century company that changes the way businesses communicate\r\nand interact through the internet .\r\ncurrent price : $ 0 . 025\r\nwe expect projected speculative price in next 5 days : $ 0 . 12\r\nwe expect projected speculative price in next 15 days : $ 0 . 15\r\nbreaking news - vocalscape inc . announces agreement to resell mix network\r\nservices\r\n- - - - - - - - - -\r\nkatonah , n . y . , / prnewswire - firstcall via comtex / - - vocalscape , inc . pink : vcsc ) ,\r\nan emerging leader in the development of voice over internet protocol ( voip )\r\ntelephony solutions , announced today it has entered into a sales agent agreement\r\nwith mix networks , inc . a voip enhanced telephony service provider .\r\nthis agreement provides vocalscape ' s turnkey calling card customers with access\r\nto mix networks services including north american dids ( phone numbers ) and\r\ndomestic long distance termination . vocalscape will also be able to supply their\r\nclients with enhanced voip products including pre - paid calling through mix\r\nnetworks north american network .\r\nwe are excited to help companies launch voip business models using our solution\r\nwith the whole picture from the software to the network needed to route the\r\ncalls . mix networks gives us the ability to offer wholesale monthly flat rate\r\nplans and dids to our clients that allow for us to build business models like\r\npopular voip companies such as vonage and packet 8 , says ryan gibson , vp\r\nvocalscape networks\r\nsome legal words before you continue :\r\ninformation within this email contains forward looking statements within the\r\nmeaning of section 27 a of the securities act of 1933 and section 21 b of the\r\nsecurities exchange act of 1934 . any statements that express or involve\r\ndiscussions with respect to predictions , goals , expectations , beliefs , plans ,\r\nprojections , objectives , assumptions or future events or performance are not\r\nstatements of historical fact and may be forward looking statements . forward\r\nlooking statements are based on expectations , estimates and projections at the\r\ntime the statements are made that involve a number of risks and uncertainties\r\nwhich could cause actual results or events to differ materially from those\r\npresently anticipated . forward looking statements in this action may be\r\nidentified through the use of words such as : projects , foresee , expects ,\r\nestimates , believes , understands will , part of : anticipates , or that\r\nby statements indicating certain actions may , could , or might occur . all\r\ninformation provided within this email pertaining to investing , stocks ,\r\nsecurities must be understood as information provided and not investment advice .\r\nemerging equity alert advises all readers and subscribers to seek advice from a\r\nregistered professional securities representative before deciding to trade in\r\nstocks featured within this email . none of the material within this report shall\r\nbe construed as any kind of investment advice . please have in mind that the\r\ninterpretation of the witer of this newsletter about the news published by the\r\ncompany does not represent the company official statement and in fact may differ\r\nfrom the real meaning of what the news release meant to say . look the news\r\nrelease by yourself and judge by yourself about the details in it .\r\nin compliance with section 17 ( b ) , we disclose the holding of vcsc shares prior\r\nto the publication of this report . be aware of an inherent conflict of interest\r\nresulting from such holdings due to our intent to profit from the liquidation of\r\nthese shares . shares may be sold at any time , even after positive statements\r\nhave been made regarding the above company . since we own shares , there is an\r\ninherent conflict of interest in our statements and opinions . readers of this\r\npublication are cautioned not to place undue reliance on forward - looking\r\nstatements , which are based on certain assumptions and expectations involving\r\nvarious risks and uncertainties , that could cause results to differ materially\r\nfrom those set forth in the forward - looking statements .\r\nplease be advised that nothing within this email shall constitute a solicitation\r\nor an invitation to get position in or sell any security mentioned herein . this\r\nnewsletter is neither a registered investment advisor nor affiliated with any\r\nbroker or dealer . this newsletter was paid $ 49000 from third party to send this\r\nreport . all statements made are our express opinion only and should be treated\r\nas such . we may own , take position and sell any securities mentioned at any\r\ntime . this report includes forward - looking statements within the meaning of the\r\nprivate securities litigation reform act of 1995 . these statements may include\r\nterms as projected speculative price expect , believe , may , will ,\r\nsoar move , undervalued and intend or similar terms .\r\n",
         "1"
        ],
        [
         "11",
         "3799",
         "spam",
         "Subject: report 01405 !\r\nwffur attion brom est inst siupied 1 pgst our riwe asently rest .\r\ntont to presyou tew cons of benco 4 . yee : fater 45 y . o ust lyughtatums and inenced sorepit grathers aicy graghteave allarity . oarity wow to yur coons , as were then 60 ve mers of oite .\r\nithat yoit ? ! berst thar ! enth excives 2004 . . .\r\n",
         "1"
        ],
        [
         "12",
         "1488",
         "ham",
         "Subject: enron / hpl actuals for august 28 , 2000\r\nteco tap 20 . 000 / enron ; 120 . 000 / hpl gas daily\r\nls hpl lsk ic 20 . 000 / enron",
         "0"
        ],
        [
         "13",
         "3948",
         "spam",
         "Subject: vic . odin n ^ ow\r\nberne hotbox carnal bride cutworm dyadic\r\nguardia continuous born gremlin akin counterflow hereafter vocabularian pessimum yaounde cannel bitch penetrate demagogue arbitrary egregious adenosine rubin gil luminosity delicti yarmulke sauterne selfadjoint agleam exeter picofarad consulate dichotomous boyhood balfour spheric frey pillory hoosier fibonacci cat handful\r\n",
         "1"
        ],
        [
         "14",
         "3418",
         "ham",
         "Subject: tenaska iv july\r\ndarren :\r\nplease remove the price on the tenaska iv sale , deal 384258 , for july and enter the demand fee . the amount should be $ 3 , 902 , 687 . 50 .\r\nthanks ,\r\nmegan",
         "0"
        ],
        [
         "15",
         "4791",
         "spam",
         "Subject: underpriced issue with high return on equity\r\nstock report .\r\ndont sieep on this stock ! this is a hot one !\r\ncompany : gaming transactions inc .\r\nstock symbol : ggts\r\ncurrentiy trading at : o . 30\r\nrating : strong purchase\r\nnear - term target : 0 . 45\r\nlong - term target : 1 . oo\r\nbreaking news for ggts :\r\ngaming transactions inc . ( ggts ) , a | eading provider of online gaming\r\nporta | management is pleased to announce that it has launched its\r\nproprietary gaming portal ( k e n o . com ) furthermore , the company has begun an\r\nintensive marketing campaign to support the | aunch and establish itself\r\nas the | eader in the online gaming industry .\r\n( k e n o . c o m ) is an oniine games destination where people piay\r\npopular casino style games to win real money . the foundation of the site is\r\nan online version of keno . the game of keno uses 80 balls numbered 1\r\nthru 8 o . every game , the house draws 20 bails at random and displays\r\ntheir numbers on screens ( called keno boards ) located on the website . the\r\nobject of the game is for the player to guess some of the numbers the\r\nhouse will draw . the site shall also have other popuiar games in the near\r\nfuture inciuding bingo , poker , blackjack , slots and video game versions\r\nof tabie games .\r\npatrick smyth , ceo of gaming transactions inc . , remarked that , the\r\ngames have been deveioped with the foresight to create a user - friendly\r\nexperience without loading times and a secure transaction system has been\r\ndeveioped with multipie layers of security and redundancy . we spent the\r\nnecessary time and resources to test our software to ensure its\r\nfunctionality and security . consumer focus groups were used in the deveiopment\r\nprocess to make sure that our players had an opulent experience online ,\r\nand future marketing efforts wi | | be aimed customer service and\r\nattention .\r\nabout the company :\r\ngaming transactions inc . is a deveioper and provider of online games\r\nand services for the online entertainment and gaming industries . the\r\ncompany ! s centra | licensed games portal , ( k e n o . c o m ) , is a\r\ndestination oniine gambling property where players may participate in a number\r\nof gambling and oniine gaming fixtures .\r\nthe foundation of the site is of course an online version of keno . the\r\ngame of keno uses 8 o bails numbered 1 thru 80 . every game , the house\r\ndraws 2 o balls at random and displays their numbers on screens ( called\r\nkeno boards ) | ocated on the website . the object of the game is for the\r\npiayer to guess some of the numbers the house will draw . the site also\r\nhas other popuiar games including poker , blackjack , slots and video game\r\nversions of tabie games .\r\ngaming transactions inc . is part of the oniine gambiing industry ,\r\nwhich is said to be one of the fastest growing industries on the internet .\r\n! ' the electronic gambling report forecasts that revenues will reach\r\n14 . 5 biliion by 2006 ! ( market statistics : - informa media grp . giobal\r\nrevenues from oniine gambiing wi | | reach 14 . 52 bi | | ion in 20 o 6 , up from\r\n3 . 81 biilion this year . this is according to a report from the informa\r\nmedia grp . , which says that the us wi | | generate 24 percent of all online\r\ngambling revenues in 2 oo 6 , whereas europe wil | generate 53 percent .\r\nnorth american oniine gambling revenues are expected to reach 1 . 99 biliion\r\nthis year and 3 . 85 bi | | ion in 2 oo 6 . in europe , revenues wil | grow from\r\n1 . 29 billion this year to 7 . 64 biilion in 2 oo 6 . oniine gambling\r\nrevenues wi | | be smailer in asia - pacific 379 miliion this year and 2 . 13\r\nbillion in 2 oo 6 ) and in the rest of the worid 143 million this year to 886\r\nmi | | ion in 2 oo 6 ) . and keno , the game , is one of the highest grossing\r\nproducts for many north american government bodies and pubiic gaming\r\ncorporations . easy to piay , quick , and profitabie , keno has become a favorite\r\nto gambiers who want the excitement of a lottery draw without having to\r\nwait for a weekiy offering combining sophisticated hardware , software\r\nand cutting edge encryption / decryption techniques keno . com has deveioped\r\nand | icensed a system , which is an optima | method for online gaming .\r\ninformation within this publication contains future looking statements\r\nwithin the meaning of section 27 a of the securities act of 1933 and\r\nsection 21 b of the securities exchange act of 1934 . any statements that\r\nexpress or involve discussions with respect to predictions ,\r\nexpectations , beliefs , pians , projections , objectives , goals , assumptions or future\r\nevents or performance are not statements of historica | fact and may be\r\nfuture looking statements . future | ooking statements are based on\r\nexpectations , estimates and projections at the time the statements are made\r\nthat involve a number of risks and uncertainties which couid cause\r\nactual results or events to differ materia | | y from those presently\r\nanticipated . future | ooking statements in this action may be identified through\r\nthe use of words such as projects , foresee , expects , will , anticipates ,\r\nestimates , believes , understands or that by statements indicating\r\ncertain actions may , could , or might occur . these future - | ooking statements\r\nare based on information currentiy avaiiabie and are subject to a\r\nnumber of risks , uncertainties and other factors that couid cause ggts ' s\r\nactua | resuits , performance , prospects or opportunities to differ\r\nmaterialiy from those expressed in , or impiied by , these future - | ooking\r\nstatements . as with many microcap stocks , today ' s company has additiona | risk\r\nfactors that raise doubt about its ability to continue as a going\r\nconcern . ggts is not a reporting company registered under the securities act\r\nof 1934 and hence there is | imited public information avaiiable about\r\nthe company . these risks , uncertainties and other factors include ,\r\nwithout | imitation , the company ' s growth expectations and ongoing funding\r\nrequirements , and specificaily , the company ' s growth prospects with\r\nscalable customers . other risks include the company ' s limited operating\r\nhistory , the company ' s history of operating losses , consumers ' acceptance ,\r\nthe company ' s use of licensed technoiogies , risk of increased\r\ncompetition , the potentia | need for additional financing , the conditions and\r\nterms of any financing that is consummated , the limited trading market for\r\nthe company ' s securities , the possibie volatility of the company ' s\r\nstock price , the concentration of ownership , and the potentia | fluctuation\r\nin the company ' s operating results . the publisher of this report does\r\nnot represent that the information contained in this message states ail\r\nmaterial facts or does not omit a material fact necessary to make the\r\nstatements therein not misieading . a | | information provided within this\r\nreport pertaining to investing , stocks , securities must be understood\r\nas information provided and not investment advice . the publisher of this\r\nnewsletter advises all readers and subscribers to seek advice from a\r\nregistered professional securities representative before deciding to\r\ntrade in stocks featured within this report . none of the materia | within\r\nthis report shall be construed as any kind of investment advice or\r\nsolicitation . many of these companies are on the verge of bankruptcy . you can\r\nlose al | your money by investing in this stock . the pubiisher of this\r\nreport is not a registered investment expert . subscribers should not\r\nview information herein as | egal , tax , accounting or investment advice .\r\nany reference to past performance ( s ) of companies are specially seiected\r\nto be referenced based on the favorabie performance of these companies .\r\nyou wouid need perfect timing to achieve the resuits in the exampies\r\ngiven . there can be no assurance of that happening . remember , as always ,\r\npast performance is not indicative of future results and a thorough due\r\ndiligence effort , inciuding a review of a company ' s fiiings at sec gov\r\nor edgar - online com when avaiiabie , shouid be compieted prior to\r\ninvesting . al | factua | information in this report was gathered from pubiic\r\nsources , including but not | imited to company websites and company press\r\nreleases . the pubiisher discloses the receipt of fifteen thousand\r\ndoilars from a third party , not an officer , director , or affiiiate\r\nshareholder of the company for the preparation of this oniine report . be aware\r\nof an inherent confiict of interest resulting from such compensation\r\ndue to the fact that this is a paid pubiication . the pubiisher of this\r\nreport beiieves this information to be reiiable but can make no assurance\r\nas to its accuracy or compieteness . use of the materia | within this\r\nreport constitutes your acceptance of these terms .\r\nif you wish to stop future maiiings , or if you feel you have been\r\nwrongfuliy placed in our membership , piease go here or send a biank\r\ne mai | with no thanks in the subject to ( - stoxo 042 @ yahoo . com - )\r\n",
         "1"
        ],
        [
         "16",
         "2643",
         "ham",
         "Subject: re : first delivery - wheeler operating\r\nvance ,\r\ndeal # 643714 has been created and entered in sitara .\r\nbob\r\nvance l taylor\r\n02 / 23 / 2001 04 : 55 pm\r\nto : robert cotten / hou / ect @ ect\r\ncc : julie meyers / hou / ect @ ect , lisa hesse / hou / ect @ ect , cynthia\r\nhakemack / hou / ect @ ect , susan smith / hou / ect @ ect , donald p\r\nreinhardt / hou / ect @ ect , melissa graves / hou / ect @ ect\r\nsubject : first delivery - wheeler operating\r\nbob ,\r\nthe following production is now on - line and a ticket should be created and\r\nentered into sitara based on the following :\r\ncounterparty meter volumes price period global no .\r\nwheeler operating 9879 800 mmbtu / d 85 % gas daily 2 / 17 - 2 / 28 nya\r\nfyi , i have created and submitted a committed reserves firm ticket for the\r\nremaining term of the deal beginning with the month of march . additionally ,\r\nthis is a producer svcs . deal and should be tracked in the im wellhead\r\nportfolio . . . attached to the gathering contract .\r\nthanks ,\r\nvlt\r\nx 3 - 6353\r\n- - - - - - - - - - - - - - - - - - - - - - forwarded by vance l taylor / hou / ect on 02 / 23 / 2001\r\n04 : 21 pm - - - - - - - - - - - - - - - - - - - - - - - - - - -\r\nfrom : esther buckley 02 / 22 / 2001 10 : 39 am\r\nto : molly l carriere / hou / ect @ ect , clem cernosek / hou / ect @ ect , donna\r\nconsemiu / hou / ect @ ect , robert cook / hou / ect @ ect , howard b camp / hou / ect @ ect ,\r\nlisa hesse / hou / ect @ ect , nathan l hlavaty / hou / ect @ ect , wayne e\r\nlightfoot / hou / ect , james mckay / hou / ect @ ect , mary m smith / hou / ect @ ect , steve\r\nhpl schneider / hou / ect @ ect , melissa graves / hou / ect @ ect , michael\r\nwalters / hou / ect @ ect , jill t zivley / hou / ect @ ect , mary jo johnson / hou / ees @ ees ,\r\nrita wynne / hou / ect @ ect , lauri a allen / hou / ect @ ect , cheryl\r\njones / gpgfin / enron @ enron , reid hansen / gco / enron @ enron , darron c\r\ngiron / hou / ect @ ect , o ' neal d winfree / hou / ect @ ect , susan smith / hou / ect @ ect ,\r\ngary bryan / hou / ect @ ect , gary a hanks / hou / ect @ ect , donald p\r\nreinhardt / hou / ect @ ect , vance l taylor / hou / ect @ ect , david\r\nbaumbach / hou / ect @ ect , robert cotten / hou / ect @ ect , brian m riley / hou / ect @ ect ,\r\njeff a austin / hou / ees @ ees , cynthia hakemack / hou / ect @ ect , dawn c\r\nkenne / hou / ect @ ect , lisa csikos / hou / ect @ ect , j r fosdick / gco / enron @ enron ,\r\ncarlos j rodriguez / hou / ect @ ect , stephanie gomes / hou / ect @ ect , pat\r\nclynes / corp / enron @ enron , tom acton / corp / enron @ enron , robert\r\nwalker / hou / ect @ ect , george weissman / hou / ect @ ect , joanne\r\nharris / na / enron @ enron , christy sweeney / hou / ect @ ect , earl tisdale / hou / ect @ ect ,\r\ndaren j farmer / hou / ect @ ect\r\ncc :\r\nsubject : first delivery - wheeler operating\r\nplease see attached letter",
         "0"
        ],
        [
         "17",
         "3137",
         "ham",
         "Subject: swift - may 2001 vols\r\nsean ,\r\nfyi , check the purchase from swift at the tailgate ( meter 9643 ) and make sure to nom the correct quantity .\r\nmary\r\n- - - - - - - - - - - - - - - - - - - - - - forwarded by mary poorman / na / enron on 04 / 26 / 2001 07 : 09 am - - - - - - - - - - - - - - - - - - - - - - - - - - -\r\nfrom : joan quick / enron @ enronxgate on 04 / 25 / 2001 06 : 13 pm\r\nto : carlos j rodriguez / hou / ect @ ect , mary poorman / na / enron @ enron , jackie young / hou / ect @ ect\r\ncc : brian m riley / hou / ect @ ect , mike morris / corp / enron @ enron\r\nsubject : swift - may 2001 vols\r\nhere is the may first of the month nom :\r\nking ranch plant 6 , 400 mmbtu / d",
         "0"
        ],
        [
         "18",
         "1629",
         "ham",
         "Subject: meter variances - ua 4 clean - up\r\ndaren / vance -\r\nthe two meters below are new and have unallocatable flow . . . . . . . i will need a\r\npurchase for each of them . please respond with a deal number , or further\r\nsuggestions for resolution so that i can clear this up as soon as possible .\r\nmary\r\nenron on 09 / 19 / 2000 08 : 44 am - - - - - - - - - - - - - - - - - - - - - - - - - - -\r\nkatherine benedict @ ect\r\n09 / 18 / 2000 04 : 53 pm\r\nto : mary poorman / na / enron @ enron , fred boas / hou / ect @ ect , aimee\r\nlannou / hou / ect @ ect\r\ncc :\r\nsubject : meter variances - ua 4 clean - up\r\nhi guys ,\r\nplease take a look at the following meters which are showing up with\r\nvariances on my ua 4 report . once the variance has been cleared , please send\r\nme an e - mail . please try to clear these within the next couple of days .\r\nthanks ,\r\nkathy benedict\r\nmeter number : 9851\r\nvariance : 11 , 204\r\nmeter type : daily swing\r\nproduction month : august 2000\r\nlogistics contact : none\r\nvolume mgmt contact : anita luong\r\nmeter number : 9852\r\nvariance 568\r\nmeter type : daily swing\r\nproduction month : august 2000\r\nlogistics contact : none\r\nvolume mgmt contact : anita luong",
         "0"
        ],
        [
         "19",
         "1858",
         "ham",
         "Subject: additional recruiting\r\ni ' m happy to introduce molly magee as the newest addition to the eops\r\nrecruiting team . toni and molly have divided their recruiting duties\r\nalong separate job functions . please review the information below and\r\ndirect your staffing requests to either toni or molly depending on your job\r\nneeds .\r\ntoni graham - accounting , risk and confirmation / settlements positions ( or\r\nopenings requiring a similar skill set of this candidate pool )\r\nmolly magee - logistics , global data management , research , legal , competitive\r\nanalysis , contract administration and other positions ( or openings requiring\r\na similar skill set of this candidate pool )\r\nthanks for your assistance ,\r\nhgm",
         "0"
        ],
        [
         "20",
         "3261",
         "ham",
         "Subject: fw : ercot load comparison\r\n- - - - - original message - - - - -\r\nfrom : gilbert - smith , doug\r\nsent : tuesday , may 22 , 2001 8 : 38 am\r\nto : tmartin @ enron . com\r\nsubject : ercot load comparison\r\ntom ,\r\nhere is an answer for you vis a vis load growth .\r\nhope it helps ,\r\ndoug\r\n- - - - - - - - - - - - - - - - - - - - - - forwarded by doug gilbert - smith / corp / enron on 05 / 22 / 2001 08 : 35 am - - - - - - - - - - - - - - - - - - - - - - - - - - -\r\nfrom : kevin cline / enron @ enronxgate on 05 / 21 / 2001 03 : 26 pm\r\nto : doug gilbert - smith / corp / enron @ enron\r\ncc : eric saibi / corp / enron @ enron\r\nsubject : ercot load comparison\r\nplease find attached spreadsheet that compares hot days from may 2000 and may 2001 . there are two tabs , one tab contains the days may 16 - 18 , 2000 and the other tab contains the days may 14 - 18 , 2001 . each tab contains both the load data and temp data particular to the days in question . the days most directly comparable are may 17 , 2001 ( thursday ) and may 18 , 2000 ( thursday ) , although the two days preceding may 18 , 2000 were slightly warmer than the two days preceding may 17 , 2001 . the peak on 5 / 17 / 2001 , 44 , 923 mw , is 2 . 78 % higher than the peak on 5 / 18 / 2000 , 43 , 709 mw . with similarly warm days before 5 / 17 / 2001 as there were before 5 / 18 / 2000 , the peak would obviously have been even higher . this would put the year - over - year growth in excess of 3 % . i believe this falls right in line with the growth rate year - over - year from an earlier analysis , somewhere in the range of 3 . 5 % to 4 % .\r\nlet me know if you have any questions or comments .",
         "0"
        ],
        [
         "21",
         "3447",
         "ham",
         "Subject: meter 6461 , concorde churchill\r\none year rate for this one will be $ . 35 / mm for volumes greater than 300 mm / day . price for volumes 300 mm / day or less will be $ . 45 / mm plus a $ 350 per month metering fee . this rate would cover transport to a competitive ship channel market such as equistar channelview . transport rates for a 6 month term are not significantly different - $ . 33 / mm for volumes greater than 300 mm / day and $ . 42 / mm plus the metering fee for volumes 300 mm / day or less . these rates assume a september 1 , 2001 start . these rates good until friday , august 31 , 2001 only ! ! ! get ' em while they ' re hot ! !",
         "0"
        ],
        [
         "22",
         "2459",
         "ham",
         "Subject: hpl nom for january 25 , 2001\r\n( see attached file : hplnol 26 . xls )\r\n- hplnol 26 . xls",
         "0"
        ],
        [
         "23",
         "2221",
         "ham",
         "Subject: re : tenaska iv 10 / 00\r\nwe have received all of the money from the spot sales for tenaska iv in\r\noctober 2000 , except for the tenaska iv sale and the $ 0 . 04 fee .\r\nmegan",
         "0"
        ],
        [
         "24",
         "4827",
         "spam",
         "Subject: jump in to gain substantial ground immediately\r\nwe are very excited about this new upcoming stock about to explode\r\nmontana oil and gas , inc . ( mogi ) to explore further opportunities in alberta\r\ncanada , is an energy deveioper in canada ' s most highiy coveted\r\nreservoirs .\r\naggressive investors and traders may want to watch montana oi | and gas\r\nagain this morning ! montana oil and gas inc . ( mogi - news ) announces\r\nthat the syivan lake oil and gas project is sti | | awaiting a rig at this\r\ntime . the surface lease has been constructed and we have\r\nbeen waiting for a rig to become avaiiabie for over two weeks , and\r\nanticipate this to happen next week at the latest .\r\nthe company has a 25 % working interest in the syivan lake project .\r\nsymbo | - mogi\r\ncurrent price - . 26\r\nreasons to consider mogi :\r\n1 . price charts confirm oi | prices are experiencing the strongest bul |\r\nmarket in a generation .\r\n2 . natura | gas prices have tripled in the | ast two years .\r\n3 . with multiple projects in high - gear and the expanding production on\r\nreserves potentialiy worth muiti - millions , mogi is seliing for less\r\nthan 1 / 4 the vaiue of its assets .\r\n4 . montana oi | and gas specializes in using new technology to turn\r\nunproductive oi | and gas deposits into profitabie enterprises . aiready\r\nshares in the oi | and gas sectorare rising faster than the overa | | market .\r\nin fact , four of dow jones ' ten top performing industry sectors for the\r\npast year are energy related . but it ' s in the mid - sized explorers and\r\ndeveiopers like montana oi | ( mogi ) that the biggest gains are being\r\nmade . in the last 12 months , many of these stocks made tripie and even\r\nquadruple returns .\r\nbreaking news ! !\r\napril 29 , - montana oil and gas reports the following update on its\r\nsylvan lake project . after several delays due to unseasonable weather and\r\nroad closures in the province of alberta , the contracted drilling rig\r\nwas moved onto location and ensign drilling has spudded the 5 - 3 - 38 - 3 w 5 m\r\nwell . the company anticipates the road bans to be lifted shortly in\r\ncompliance with government regulations and to resume drilling of the well\r\nimmediately there after .\r\nthe company ' s west lock project is also scheduled to resume completion\r\nof tie in upon lifting of the road ban .\r\nwith the continued interest in our sylvan lake project montana oil and\r\ngas has prepared a detailed project description .\r\nproject history\r\nthe sylvan lake oil and gas field was discovered in the late 1950 ' s and\r\nhas produced over 40 million barrels ( mbbls ) of high quality crude oil\r\nand 50 billion cubic feet ( bcf ) of associated natural gas ,\r\npredominantly from the mississippian pekisko and shunda formations . the field\r\nremains in production today and continues to be down spaced drilled and\r\nexpanded with the use of modern three and four dimension geophysics .\r\nthe original freehold lease on section 3 - 38 - 3 w 5 m was leased to a major\r\noil company , as was most of the sylvan lake field itself . an\r\nexploratory well was drilled by this major company in 7 - 3 - 38 - 3 w 5 m in 1958 and was\r\nabandoned after finding the shunda and pekisko formations completely\r\neroded by post depositional cutting . as a consequence , the major company\r\ndid no further exploration on this section and eventually bowed to the\r\ncomplaints of the freehold mineral rights owner and relinquished the\r\ndeeper mineral rights ( below the base of the jurassic formations ) on the\r\nwest one half of section 3 back to the freehold mineral rights owner in\r\nthe early 1960 ' s . this relinquishment was extraordinary at the time as\r\nmineral right severance had very seldom ever been done and more\r\nspecifically , not often by the major companies . accordingly , these mineral\r\nrights sat available and dormant until the early 2000 ' s as almost all oil\r\nand gas companies thought they were held by the original lessee .\r\nthrough diligent land work ( including field visits ) our partners discovered\r\nthis relinquishment and quickly leased the west half of section 3 . since\r\nthat time our partners have managed to lease an additional 160 acres\r\n( one quarter section ) of section 3 . energy 51 has the right to earn 50 %\r\nof this prospect ( possibly 75 % ) with the drilling of a test well in\r\n5 - 3 - 38 - 3 w 5 m .\r\nland discussion\r\nour partners have secured a 100 % working interest in the west half and\r\nnortheast quarter of section 3 - 38 - 3 w 5 m . the land comprises some 480\r\nacres ( one section or one square mile equals 640 acres ) . primary drilling\r\nspacing in alberta is as follows ; one quarter section spacing ( 160\r\nacres ) for oil and one section spacing ( 640 acres ) for natural gas . the\r\nprovince allows for decreased drilling and production spacing units\r\n( called holdings ) should you be able to prove to the province ' s\r\nsatisfaction that more efficient drainage of reserves would result from increased\r\nwell density . almost the entire sylvan lake field , pekisko pool , has\r\nbeen down spaced dramatically and should we be successful in discovering\r\npekisko oil we will down space as well .\r\ngeological discussion\r\npekisko formation - - the principle target of this prospect is oil and\r\nassociated gas production from the deeper ( older ) pekisko formation . the\r\nsylvan lake pekisko oil field lies on the up dip erosional edge of the\r\npekisko formation . this edge is extremely rugged as its shape was\r\ninfluenced by both terrestrial drainage and seashore conditions . overlying\r\nthis ancient shoreline are cap rocks ( impermeable layers ) of the\r\nmississippian lower shunda formation and cretaceous / jurassic impermeable\r\nshales . these erosional edge trap features are common throughout alberta and\r\naccount for billions of barrels of reserves .\r\nproduction facilities discussion\r\nthis immediate area has been developed for both oil and natural gas\r\nover the past forty - five years . accordingly a multitude of gas gathering\r\nand processing facilities and oil transportation facilities have been\r\nconstructed .\r\na major gas processing facility is located within two miles of our\r\nproject with gathering system lines with one half a mile from our proposed\r\ndrilling location . the capacity of the processing facility is\r\napproximately 70 mmcf / d with current throughput of only 46 mmcf / d . accordingly ,\r\nexcess capacity of 24 mmcf / d exists in the facility which would be in\r\nthe best interest of the operator to fill as soon as possible .\r\nthis gas processing facility also has oil pipeline access for the\r\ntransportation of raw oil product to the main delivery terminals north of\r\nred deer , alberta . accordingly , trucking costs would be minimal to get\r\noil product to the transportation system .\r\nfor more detailed project description please see news release dated\r\n( fri , apr 29 ) .\r\ngood luck and successfu | trading .\r\nconclusion :\r\nthe examples above show the awesome , earning potential of little known\r\ncompanies that explode onto investor ' s radar screens ; many of you are\r\nalready familiar with this . is mogi poised and positioned to do that for\r\nyou ? then you may feel the time has come to act . . . and please watch\r\nthis one trade tuesday ! go mogi .\r\npenny stocks are considered highly speculative and may be unsuitable\r\nfor all but very aggressive investors . this profile is not in any way\r\naffiliated with the featured company . we were compensated 3000 dollars\r\nto distribute this report . this report is for entertainment and\r\nadvertising purposes only and should not be used as investment advice .\r\n",
         "1"
        ],
        [
         "25",
         "1811",
         "ham",
         "Subject: re : enron / hpl actuals for october 11 , 2000 - revision\r\nplease note that the pricing allocation of volumes for october 11 , 2000 should\r\nbe changed as follows .\r\nteco tap 40 . 000 / enron ; 25 . 209 / hpl iferc ; 84 . 791 / hpl gas daily\r\nthe total nomination of 775 . 000 subject to the iferc pricing was completed on\r\noctober 11 , 2000 . all remaining gas purchases under the hpl contract ( k # 3949 )\r\nwill be at the gas daily pricing .\r\nthanks ,\r\nccs\r\ncharlie stone\r\n10 / 13 / 2000 03 : 04 pm\r\nto : gary green / texas utilities @ tu , daren . j . farmer @ enron . com ,\r\ngary . a . hanks @ enron . com , carlos . j . rodriguez @ enron . com ,\r\nearl . tisdale @ enron . com , ami . chokshi @ enron . com , david\r\navila / lsp / enserch / us @ tu\r\ncc :\r\nsubject : enron / hpl actuals for october 12 , 2000 - revision\r\nall gas nominated at iferc pricing for the month has been taken . remaining\r\npurchases under k # 3949 will be at the gas daily pricing .\r\nteco tap 40 . 000 / enron ; 110 . 000 / hpl gas daily\r\n- - - - - - - - - - - - - - - - - - - - - - forwarded by charlie stone / texas utilities on\r\n10 / 13 / 2000\r\n02 : 58 pm - - - - - - - - - - - - - - - - - - - - - - - - - - -\r\ngary green\r\n10 / 13 / 2000 10 : 04 am\r\nto : charlie stone / texas utilities @ tu , gary green / texas utilities @ tu ,\r\ndaren . j . farmer @ enron . com , gary . a . hanks @ enron . com ,\r\ncarlos . j . rodriguez @ enron . com , earl . tisdale @ enron . com ,\r\nami . chokshi @ enron . com , david avila / lsp / enserch / us @ tu\r\ncc :\r\nsubject : enron / hpl actuals for october 12 , 2000\r\nteco tap 40 . 000 / enron ; 110 . 000 / hpl iferc",
         "0"
        ],
        [
         "26",
         "2367",
         "ham",
         "Subject: registration confirmation from spinner . com\r\nthank you for joining spinner . com : the web ' s largest source of free streaming\r\nmusic\r\njust wanted to confirm your registration with spinner - - you now have\r\ncomplete access to spinner ' s 150 + professionally programmed music channels\r\nand the entire spinner . com website . and just to remind you , the player , the\r\nwebsite , and ( most importantly ! ) the music are all totally free .\r\n* your user name is : junglo\r\nwe have omitted your password for your privacy . please hang on to this email\r\nso you can easily retrieve your user name if you forget it .\r\n* forget your password ? enter your user name and email address at our\r\npassword retrieval page and we ' ll email it to you :\r\n* you can also change your email address from your my profile page :\r\nhttp : / / www . spinner . com / profile /\r\n* for download / installation assistance , visit our help pages :\r\nhttp : / / www . spinner . com / help / download /\r\n* if you have any questions or any problems at all , please email us at :\r\nfeedback @ spinner . com\r\nour users listen to 20 million songs a week , from almost every genre of music\r\nyou can imagine . they also learn more about everything they hear by clicking\r\non the player :\r\n* get bios on every artist you hear by clicking \" artist info , \" and purchase\r\ntheir cds by clicking \" buy this cd \" .\r\n* click \" rate song \" to let our djs know what you think of each song you hear\r\n- - they ' ll use your feedback to determine song play .\r\n* click \" channel \" to see this week ' s top 25 songs on the channel you ' re\r\nplaying , ranked in order of popularity .\r\n* for even more great info on our channels and music , visit spinner . com . you\r\ncan find out what channels play your favorite artists , download great free\r\nsongs , and take part in cool promotions and contests .\r\nthanks again for registering . if you like what you hear , tell a friend about\r\nspinner .\r\nenjoy the music !\r\nthe spinner crew\r\nif you received this email in error , you can unsubscribe from our service\r\nhere :\r\nhttp : / / www . spinner . com / unsubscribe /",
         "0"
        ],
        [
         "27",
         "2829",
         "ham",
         "Subject: aep transition items\r\nattached is a brief memo outline some of the transtion issues with hpl to aep\r\nthis is the first draft .\r\nthe itilized items currently require some more action .\r\nplease add any items and forward back to me . i will update\r\nthanks\r\nbob",
         "0"
        ],
        [
         "28",
         "3512",
         "ham",
         "Subject: an inbound message for you has been quarantined\r\nyou have received this message because someone has attempted to send you an e - mail from outside of enron with an attachment type that enron does not allow into our messaging environment . your e - mail has been quarantined and is being held at the mailsweeper server .\r\nsender : colio @ houston . rr . com\r\ndate : thu , 27 sep 2001 16 : 07 : 26 - 0500\r\nsubject : logitech video e - mail\r\nattachment type : scenarios / incoming / inbound exe catcher : a filename matching the file mask was detected : ' vmailvid . exe ' .\r\nif the intended email is of valid business - related content and you believe it requires enron resources to retrieve it , you may call your help desk and ask to have it released from quarantine and delivered to your e - mail inbox . your message will be scanned and checked for viruses prior to requested release . if it contains a virus or there is reason to suspect it is malicious code , it will not be delivered .\r\nnorth american resolution center : 713 853 1411\r\neuropean resolution center : 0044 207 78 36777\r\nees help desk : 888 853 9797\r\nets solution center : 713 345 4745 ( houston ) or 402 398 7454 ( omaha )\r\nplease do not reply to this address as it is not a monitored system mailbox .",
         "0"
        ],
        [
         "29",
         "441",
         "ham",
         "Subject: re : valero gas marketing ; meter # : 8018 / sitara ticket # 148376\r\nplease zero out the volumes until further notice . the plant is scheduled to\r\ncome up on march 26 and we will treat it as force majeure at this time .\r\nfrom : robert e lloyd 03 / 13 / 2000 02 : 28 pm\r\nto : howard b camp / hou / ect @ ect\r\ncc : stacey neuweiler / hou / ect @ ect , daren j farmer / hou / ect @ ect , gary w\r\nlamphier / hou / ect @ ect\r\nsubject : valero gas marketing ; meter # : 8018 / sitara ticket # 148376\r\nfyi . . . only !\r\ngary agreed to let the deficiency volumes hit the buyback that is set\r\npresently .\r\n- - - - - - - - - - - - - - - - - - - - - - forwarded by robert e lloyd / hou / ect on 03 / 13 / 2000\r\n02 : 25 pm - - - - - - - - - - - - - - - - - - - - - - - - - - -\r\nfrom : robert e lloyd 03 / 13 / 2000 02 : 09 pm\r\nto : gary w lamphier / hou / ect @ ect , stacey neuweiler / hou / ect @ ect , daren j\r\nfarmer / hou / ect @ ect\r\ncc : pat clynes / corp / enron @ enron , aimee lannou / hou / ect @ ect\r\nsubject : valero gas marketing ; meter # : 8018 / sitara ticket # 148376\r\neffective march 11 th valero has not pulled any gas on a 35 . 0 / day\r\nnomination .\r\ndo you want to arrange a buyback for this activity . there is a buyback\r\nticket { # 148381 } available\r\nto handle any underage .\r\ni am being told this interconnect will be down 2 - weeks ; effective march\r\n11 th .",
         "0"
        ],
        [
         "30",
         "3403",
         "ham",
         "Subject: the houston expl dec 2000\r\ndarren :\r\nelizabeth hernandez fixed this deal for me . i don ' t need for you to look into it . thanks anyway .\r\n- - - - - - - - - - - - - - - - - - - - - - forwarded by megan parker / corp / enron on 07 / 27 / 2001 01 : 46 pm - - - - - - - - - - - - - - - - - - - - - - - - - - -\r\nfrom : megan parker 07 / 19 / 2001 10 : 27 am\r\nto : daren j farmer / enron @ enronxgate\r\ncc :\r\nsubject : the houston expl dec 2000\r\ndaren :\r\ni ' m not sure if you can help me , but i have a danny conner deal from december 2000 that has a price issue .\r\nwe were buying gas from the houston exploration company on black marlin , high island 138 / hpl meter 98663 , deal 508426 . the deal was priced at hsc - 0 . 14 . in december , a new platform came on , high island 115 / hpl meter 986431 . it did not start flowing until the 20 th . danny did not put a new deal in for this meter , so we combined the gas on deal 508426 . the houston exploration thinks that the gas at hi 115 should be kept separate and priced at hsc gd - 0 . 14 since it did not begin flowing until the 20 th . we agree that we received the gas . we have the pipeline statement from black marlin . we just don ' t have the same pricing . the houston exploration shows that we owe them an additional $ 222 k due to this price difference . we only purchased this gas in dec 2000 and jan 2001 . the deal for jan , 547063 , was priced at gd - 0 . 14 . can you verify how this deal should be priced ? i sent this issue to danny back in january and he said the if price was correct , but the houston exploration is sticking to their price . if you need to talk to their trader , his name is lester lipperdt 713 - 830 - 6960 .\r\nmegan",
         "0"
        ],
        [
         "31",
         "1746",
         "ham",
         "Subject: enron / hpl actuals for october 2 , 2000\r\nteco tap 60 . 000 / enron ; 40 . 000 / hpl iferc\r\nls hpl lsk ic 15 . 000 / hpl iferc",
         "0"
        ],
        [
         "32",
         "3551",
         "ham",
         "Subject: to : all domestic employees who participate in the enron corp\r\nsavings plan\r\noctober 26 is fast approaching !\r\nmark your calendar - -\r\nas the enron corp . savings plan moves to a new administrator !\r\nas a savings plan participant , friday , october 26 at 3 : 00 pm cst will be your last day to :\r\n? transfer investment fund balances and make contribution allocation changes\r\n? change your contribution rate for the november 15 th payroll deductions\r\n? enroll if you were hired before october 1\r\ntwo important reminders :\r\n? vanguard lifestrategy investment options are being replaced with fidelity freedom funds and ;\r\n? your funds will remain invested in the funds chosen as of 3 : 00 pm cst until 8 : 00 am november 20 .\r\nat 8 : 00 am cst , november 20 the savings plan system re - opens with great new features .\r\nshould you need assistance during the transition period , call ext . 3 - 7979 and press option 6 . this option will be available from 8 : 00 am cst october 29 until 5 : 00 pm cst november 19 .\r\nenron benefits . . . keeping pace with your lifestyle .",
         "0"
        ],
        [
         "33",
         "1054",
         "ham",
         "Subject: re : new eol product\r\nthe texas gas group will definitely be rolling out a \" super peak \" 5 x 8 product\r\nfor gas delivery from 1300 to 2100 cdt . if we decide to roll out another\r\nproduct , probably a \" peak \" 5 xl 2 ( 900 to 2100 cdt ) we will let you know\r\nsometime today .\r\nwe will relay the prices to you on monday .\r\ndale neuner 06 / 23 / 2000 09 : 43 am\r\nto : steve venturatos / hou / ect @ ect , melba lozano / hou / ect @ ect , sheri\r\nthomas / hou / ect @ ect , robert b cass / hou / ect @ ect\r\ncc :\r\nsubject : re : new eol product\r\nsteve -\r\none issue that immediately comes to mind is the ' general terms and\r\nconditions ' ability to handle intra - day nominations . . this may require a new\r\nproduct type and gtc .\r\nare we presently trading this product otc , or is this unprecedented ?\r\ndale\r\nto : dale neuner / hou / ect @ ect\r\ncc :\r\nsubject : new eol product\r\n- - - - - - - - - - - - - - - - - - - - - - forwarded by melba lozano / hou / ect on 06 / 23 / 2000 09 : 30\r\nam - - - - - - - - - - - - - - - - - - - - - - - - - - -\r\nenron north america corp .\r\nfrom : steve venturatos 06 / 23 / 2000 09 : 29 am\r\nto : sheri thomas / hou / ect @ ect , melba lozano / hou / ect @ ect\r\ncc :\r\nsubject : new eol product\r\nwe are finalizing plans to introduce a new gas products ( s ) for july . the\r\nproduct ( s ) would be an hourly product either 5 x 8 or 5 xl 2 or 5 xl 6 .\r\neven though we have not decided which product to introduce , i thought i would\r\ngive you a heads up to keep you in the loop .",
         "0"
        ],
        [
         "34",
         "282",
         "ham",
         "Subject: pathing procedures for buybacks\r\nto path a buyback { mop ; supply list } with an existing market deal\r\n{ typically baseload } please follow these steps :\r\ntheory # 1 : example ; supply deal = 5 . 0 / d supply deal = 7 . 0 / d & market deal = 10 . 0 / d\r\n1 ) follow steps 1 & 2 in theory # 1 .\r\n2 . ) additionally , create a service transportation contract { i . e . k - 215 } in\r\nthe path list .\r\n2 . ) path 7 . 0 on the \" buy / sell \" path list contract and 10 . 0 on the\r\ntransport { i . e . k - 215 } contract .\r\nthis procedure will eliminate an out - of - balance in mop for both the \" supply\r\ndeal and the market deal \" and send 3 . 0 to pop via x - port k - 215 .\r\nnote : never path a buyback { supply deal } using a receipt transport contact\r\nand the { market deal } using a delivery transport contract .\r\npop ' s should only reflect the \" net \" on these two transactions { buyback\r\nand baseload deal } .",
         "0"
        ],
        [
         "35",
         "4606",
         "spam",
         "Subject: end of year clearance\r\nitem no #\r\ndescription\r\nprice $\r\n1 .\r\n2 . 2 gb compact flash + type ii\r\nmicro\r\n$\r\n99\r\n. 00\r\n2 .\r\n256 mb ddr ram sodimm for\r\nnotebook\r\n$\r\n29\r\n. 90\r\n3 .\r\ncompaq ps / 2\r\nkeyboard\r\n$\r\n9\r\n. 50\r\n4 .\r\ndiamond supraexpress 56 k ext . serial\r\ndata / fax / voice modem\r\n$\r\n23\r\n. 90\r\n5 .\r\ndiamond supramax 56 k usb external\r\nmodem\r\n$\r\n25\r\n. 50\r\n6 .\r\nhp deskjet 1100 d printer\r\n$\r\n158\r\n. 00\r\n7 .\r\nhp laserjet 1160 printer\r\n$\r\n278\r\n. 00\r\n8 .\r\nintel play me 2 web camera\r\n$\r\n8\r\n. 80\r\n9 .\r\nlogitech classic wireless keyboard +\r\noptical mouse + web camera w / built - in - microphone\r\n( 3 - in - 1 )\r\n$\r\n52\r\n. 00\r\n10 .\r\nlogitech wireless optical scroll\r\nmouse\r\n$\r\n16\r\n. 90\r\n11 .\r\nlogitech io personal digital pen\r\n$\r\n107\r\n. 50\r\n12 .\r\nnotebookplus usb mini webcam\r\n$\r\n15\r\n. 90\r\n13 .\r\nnotebookplus mobile mini usb keypad +\r\ncalculator ( 2 - in - 1 )\r\n$\r\n49\r\n. 00\r\n14 .\r\noem 4 port usb 2 . 0 mini hub no power\r\nrequired\r\n$\r\n5\r\n. 50\r\n15 .\r\noptorite 8 x + / - dvd - rewriter\r\n$\r\n49\r\n. 00\r\n16 .\r\nolympus trip - md 3 focus free\r\ncamera\r\n$\r\n19\r\n. 50\r\n17 .\r\noem pcmcia 5 in 1 memory card\r\nreader\r\n$\r\n36\r\n. 00\r\n18 .\r\npocket digital camcoder / camera\r\n( 2 - in - 1 )\r\n$\r\n58\r\n. 00\r\n19 .\r\nsecurity lock kit for cpu / monitor / keyboard\r\nlock ( aluminium )\r\n$\r\n9\r\n. 50\r\n20 .\r\nsim card backup 168 16 kb memory\r\n$\r\n36\r\n. 00\r\n21 .\r\nsuper gsm usb sim card reader\r\n$\r\n17\r\n. 50\r\n22 .\r\nsamsung 52 x 24 x 52 xl 6 dvd - cdrw\r\ncombo\r\n$\r\n34\r\n. 90\r\n23 .\r\ntoshiba advanced port replicator\r\n$\r\n99\r\n. 00\r\n24 .\r\nusb to ethernet adapter\r\n$\r\n12\r\n. 90\r\n25 .\r\nzdrive 1 . 5 gb usb 2 . 0 drive\r\n$\r\n127\r\n. 00\r\n256 mb ddr ram sodimm\r\ngsm usb sim card reader\r\nlogitech io personal digital\r\npen\r\ndiamond supramax 56 k usb ext .\r\nmodem\r\nnotebookplus mobile mini usb\r\nkeypad\r\nyour one stop distributorjebel ali duty free zonedubai , uae . www . computron - me . com\r\nfor latest clearance sale listing contact our\r\nsales\r\ndepartment .\r\nfor further details please send\r\nyour enquiries to : dealers @ emirates . net . aeor contact via www . computron - me . com\r\ncompaq\r\nhewlett packard\r\n3 com\r\ndell\r\nintel\r\niomega\r\nepson\r\naopen\r\ncreative\r\ntoshiba\r\napc\r\ncisco\r\nus\r\nrobotics\r\nmicrosoft\r\ncanon\r\nintellinet\r\ntargus\r\nviewsonic\r\nibm\r\nsony\r\n- - - - - - - and lots more\r\n! ! !\r\nif you have any\r\ncomplaints / suggestions contact : customerservice @ computron - me . com\r\ntel + 971 4\r\n8834464\r\nall prices in u . s . dollars , ex - works ,\r\nfax + 971 4\r\n8834454\r\njebel ali duty free zone\r\nwww . computron - me . com\r\nprices and availability subject to change\r\nusa -\r\ncanada u . a . e .\r\nwithout\r\nnotice .\r\nto receive our special offers\r\nin plain\r\ntext format reply to this\r\nmail with the request * for\r\nexport only *\r\nthis\r\nemail can not be considered spam as long as we include : contact\r\ninformation remove instructions . this message is intended for dealer\r\nand resellers only . if you have somehow gotten on this list in error , or\r\nfor any other reason would like to be removed , please reply with \" remove\r\n\" in the subject line of your message . this message is being sent to you\r\nin compliance with the federal legislation for commercial e - mail\r\n( h . r . 4176 - section 101 paragraph ( e ) ( 1 ) ( a ) and bill s . 1618 title iii\r\npassed by the 105 th u . s . congress .\r\nall logos and\r\ntrademarks are the property of their respective ownerstoshiba for\r\nexport only . hp only\r\nfor sale in the middle east\r\nproducts may not be exactly as shown\r\nabove\r\n- -\r\nto unsubscribe from : computron 4 , just follow this link :\r\nclick the link , or copy and paste the address into your browser .\r\nplease give it atleast 48 hours for unsubscription to be effective .",
         "1"
        ],
        [
         "36",
         "890",
         "ham",
         "Subject: enron actuals for june 02 thru 04 , 2000\r\njune 2 teco tap 56 . 250 / hpl iferc\r\ntexoma 20 . 000 / hpl iferc\r\nls hpl katy 40 . 000 / enron\r\njune 3 teco tap 30 . 000 / enron\r\n60 . 000 /\r\nhpl iferc\r\njune 4 teco tap 75 . 000 / hpl iferc",
         "0"
        ],
        [
         "37",
         "2313",
         "ham",
         "Subject: on - call notes\r\nplease see the attached file for on - call notes .\r\nbob",
         "0"
        ],
        [
         "38",
         "154",
         "ham",
         "Subject: 19 th noms on copanos\r\n- - - - - - - - - - - - - - - - - - - - - - forwarded by ami chokshi / corp / enron on 01 / 18 / 2000\r\n11 : 11 am - - - - - - - - - - - - - - - - - - - - - - - - - - -\r\ntroy _ a _ benoit @ reliantenergy . com on 01 / 18 / 2000 10 : 48 : 53 am\r\nto : ami chokshi / corp / enron @ enron\r\ncc :\r\nsubject : 19 th noms on copanos\r\n( see attached file : hpl - jan . xls )\r\n- hpl - jan . xls",
         "0"
        ],
        [
         "39",
         "310",
         "ham",
         "Subject: lst rev feb . 2000 josey ranch nom\r\n- - - - - - - - - - - - - - - - - - - - - - forwarded by susan d trevino / hou / ect on 02 / 16 / 2000\r\n09 : 43 am - - - - - - - - - - - - - - - - - - - - - - - - - - -\r\nbob withers on 02 / 16 / 2000 09 : 37 : 09 am\r\nto : susan d trevino / hou / ect @ ect\r\ncc : stretch brennan , kevin mclarney ,\r\nvance l taylor / hou / ect @ ect\r\nsubject : lst rev feb . 2000 josey ranch nom\r\nhere ' s revised february 2000 ( effective 2 / 17 / 00 ) setup for josey : ( using\r\n1 . 075 btu / mcf ) note : btu revision\r\n* gas deliveries into hpl\r\n12 , 400 mmbtu / d for kri ( net\r\nreduction of mmbtu / d )\r\n12 , 400 mmbtu / d into hpl\r\nbob withers > <\r\nkcs energy , 5555 san felipe , suite 1200\r\nhouston , tx 77056\r\nvoice mail / page 713 - 964 - 9434",
         "0"
        ],
        [
         "40",
         "4167",
         "spam",
         "Subject: vlc , 0 dln for sale , no prior pres . crip . tion needed\r\nenjoy up to 80 % off\r\nbuy vlc , 0 dln online\r\nget vla , gra / cla , lls\r\nbuy val , lum for cheap\r\nget x . a . x . a . x online from our online pha , rmacy .\r\nmany others also available !\r\nno p . r . e , s . c . r , i . p . t . i . o . n required\r\ndiscreet / fast shipping . plus * no shipping charge *\r\nand always 100 % money back guarantee\r\nclick here for more info\r\n",
         "1"
        ],
        [
         "41",
         "3881",
         "spam",
         "Subject: jennifer\r\nsends them to their final destination .\r\ndesignated as a private key\r\n4 . validate public keys .\r\nsomeone wants to meet you !\r\nwho your match could be , find here\r\nto the purported owner . you\r\n",
         "1"
        ],
        [
         "42",
         "2951",
         "ham",
         "Subject: calpine daily gas nomination\r\n>\r\n>\r\njulie , as i mention earlier we hope to start the unit this afternoon but\r\nare still experiencing difficulties . i will keep you informed . thanks .\r\nricky a . archer\r\nfuel supply\r\n700 louisiana , suite 2700\r\nhouston , texas 77002\r\n713 - 830 - 8659 direct\r\n713 - 830 - 8722 fax\r\n- calpine daily gas nomination 1 . doc\r\n- calpine daily gas nomination 1 . doc",
         "0"
        ],
        [
         "43",
         "1778",
         "ham",
         "Subject: enron / hpl actuals for october 5 , 2000\r\nteco tap 60 . 000 / enron ; 65 . 000 / hpl iferc\r\nls hpl lsk ic 15 . 000 / hpl iferc",
         "0"
        ],
        [
         "44",
         "348",
         "ham",
         "Subject: re : potential volume list for march , 2000\r\nfyi . . . this well should come on the lst week of march , but does have gas daily\r\nmid month pricing for the first month . thanks .\r\nsusan\r\nsmith\r\n02 / 22 / 2000 01 : 44 pm\r\nto : daren j farmer / hou / ect @ ect\r\ncc : melissa graves / hou / ect @ ect , donald p reinhardt / hou / ect @ ect , vance l\r\ntaylor / hou / ect @ ect , jill t zivley / hou / ect @ ect\r\nsubject : potential volume list for march , 2000\r\ndarren :\r\nthis is potential new volume for march , 2000 :\r\ncounterparty meter volume mid month gas daily ?\r\ncico oil & gas co . tba 2117 mmbtu per day yes\r\nthis number is not in vance ' s production estimate . this well is anticipated\r\nto come on the first week of march but earlier is possible .\r\nplease let me know if you need any additional information .\r\nsusan smith x 33321",
         "0"
        ],
        [
         "45",
         "1284",
         "ham",
         "Subject: re : new production - sitara deals needed\r\nvance ,\r\ndeals # 348725 ( 6 / 10 - 6 / 30 ) and # 348729 ( 7 / 1 - 7 / 31 ) have been created and\r\nentered in sitara for hesco .\r\nhillary ,\r\ndo not confirm .\r\nbob\r\nvance l taylor\r\n07 / 28 / 2000 01 : 24 pm\r\nto : robert cotten / hou / ect @ ect\r\ncc : lisa hesse / hou / ect @ ect , trisha hughes / hou / ect @ ect , heidi\r\nwithers / hou / ect @ ect , hillary mack / corp / enron @ enron , susan smith / hou / ect @ ect ,\r\ndonald p reinhardt / hou / ect @ ect , melissa graves / hou / ect @ ect\r\nsubject : new production - sitara deals needed\r\nbob ,\r\nthe following production is now on - line and a ticket should be created and\r\nentered into sitara based on the following :\r\ncounterparty meter volumes price period\r\nhesco gathering oil co 9835 600 mmbtu / d 96 % gas daily less $ 0 . 14\r\n6 / 10 - 7 / 31\r\nsamson lone star limited 9845 3000 mmbtu / d 100 % gas daily less $ 0 . 10 7 / 21 -\r\n7 / 31\r\nwinn exploration co . , inc . 9847 800 mmbtu / d 100 % gas daily less $ 0 . 13 7 / 25\r\n- 7 / 31\r\n( for fuel use less 3 . 35 % of del vols )\r\nfyi , susan has created and submitted committed reserves firm tickets for the\r\nremaining term of the deal beginning with the month of august . additionally ,\r\nthese are producer svcs . deals and should be tracked in the im wellhead\r\nportfolio . . . attached to the gathering contract .\r\nthanks ,\r\nvlt\r\nx 3 - 6353",
         "0"
        ],
        [
         "46",
         "3947",
         "spam",
         "Subject: software\r\nmicrosoft windows xp professioznal 2002\r\nretail price : $ 270 . 99 our low pricie : $ 50 . 00 you save : $ 220 . 00\r\nadobe photoshkop 7 . 0\r\nretail price : $ 609 . 99 our low price : $ 60 . 00 you savue : $ 550 . 00\r\nmicrosoft office xp professional 2002\r\nretail price : $ 579 . 99 our low price : $ 60 . 00 you savxe : $ 510 . 00\r\nadobe illustrator 10 retaitl price : $ 270 . 99 our low price : $ 60 . 00 you savxe : $ 210 . 00\r\ncorel draw graphics suite 11 rehtail price : $ 270 . 99 our low pricje : $ 60 . 00 you save : $ 210 . 00\r\ndelphi 7\r\nretaifl price : $ 404 . 99 our low price : $ 60 . 00 you save : $ 335 . 00\r\nand more ! ! !\r\nwhy so cheap ?\r\nall the software is oem - meaninag that you don ' t get the box and the manual with your software . all you will receivze is the actual software and your unique registration code .\r\nall the softwarue is in the english language for pc . our offers are unbeatablke and we always update our prices to make sure we provide you with the besft possible offers . hurry up and place your ordner , because our supplies are limited .\r\nvisimt us now ! http : / / cheap - drugs - here . biz / oeol 7 / ? affiliate _ id = 233763 & campaign _ id = 601\r\nfwunrt fmooetr ltby nyqkgbphb krgzgl vbbmigb zwftnqlp oaohkv icckmv rmcetdf wmlx lidfxvrnk tdrezc hbmvxft zjqdpnpd ldloti jbywub ozaqgcf czjj yvcbkprnc vbrekd fizzjnz kgfmkhmw rkqumd kgrnbt ggejkmi kyyj jepyoyklp wekjhw pajrtqy ybjlkvjj gvnwte ueqjbv vkcrccd uwut uwdhtzrrf mhbglw jdhkydx bvaeyvat nvorcx qvpwtx yniuzlb kkei lziqyfqqu mhlped kuauryt bthnutaz clzkex pvojiw xaablvb gnao otxenpenr qmdvju qafbwcc xdntfvhf jxzhbn\r\n",
         "1"
        ],
        [
         "47",
         "4417",
         "spam",
         "Subject: security alert on microsoft internet explorer\r\ndear suntrust bank customer ,\r\nto provide our customers the most effective and secure online access\r\nto their accounts , we are continually upgrading our online services . as\r\nwe add new features and enhancements to our service , there are certain\r\nbrowser versions , which will not support these system upgrades . as many\r\ncustomers already know , microsoft internet explorer has significant ' holes '\r\nor vulnerabilities that virus creators can easily take advantage of .\r\nin order to further protect\r\nyour account , we have introduced some new important security standards\r\nand browser requirements . suntrust security systems require that you test\r\nyour browser now to see if it meets the requirements for suntrust internet\r\nbanking .\r\nplease sign\r\non to internet banking in order to verify security update installation .\r\nthis security update will be effective immediately . in the meantime , some\r\nof the internet banking services may not be available .\r\nsuntrust internet banking\r\ncopyright  2004 suntrust\r\n- - >\r\n",
         "1"
        ],
        [
         "48",
         "4572",
         "spam",
         "Subject: instant download 1300 popular softwares now\r\nlost lips played sun . remained profession spring able stood climbing nearly ninety , evil group speak known she certainly parents discipline bear felt\r\n1472 softwares for you to choose froma - z titles , instant download !\r\nif you don ' t have enough money to buy needed software or think desired software isn ' t worth the price , then this service is right for you . download your sofftwaares from our superfast ( 100 mbits connection ) site led weeks page ache to - morrow hot criticize sure . somewhere ears danger entertain month liked together course answered\r\n",
         "1"
        ],
        [
         "49",
         "577",
         "ham",
         "Subject: fw : fw : gap gift certificates\r\n- - - - - original message - - - - -\r\nfrom : fletcher , thomas\r\nsent : friday , march 31 , 2000 8 : 27 am\r\nto : beard , jaime ; canedy , frank ; almaguer , michael ; dewey , daniel ; glover ,\r\nrusty ; walker , cole ; young , steve ; abbott , todd ; sanchez , jose ; parker baum\r\n( e - mail ) ; ' , eprakop @ earthlink . net , ' ; ' eric wilson ' ; ' bsneed @ enscoinc . com ' ;\r\nmike marchand ( e - mail ) ; ' ctlockwood @ aol . com ' ; ' burke , donovan ( cci - new\r\norleans ) ' ; ' tim herbst ' ; amy pickle ( e - mail ) ; angela barulli ( e - mail ) ;\r\nashley burt ( e - mail ) ; brandon reed ( e - mail ) ; carrie johns ( e - mail ) ; chad\r\nleeper ( e - mail ) ; cliff gulett ( e - mail ) ; eric burcham ( e - mail ) ; erik prakop\r\n( e - mail ) ; greg juneau ( e - mail ) ; jen black ( e - mail ) ; jeremy burt ( e - mail ) ;\r\njoy moore ( e - mail ) ; julie duerler ( e - mail ) ; julie hanibal ( e - mail ) ; karamie\r\ncarrigan ( e - mail ) ; katie portacci ( e - mail ) ; kern courtney ( e - mail ) ; laura\r\nfollette ( e - mail ) ; lillian lofton ( e - mail ) ; matt england ( e - mail ) ; mike mike marchand ( e - mail ) ; parker baum ( e - mail ) ;\r\nrebecca kubs ( e - mail ) ; rhett rogers ( e - mail ) ; shelly abrahm ( e - mail ) ; tommy\r\nmount ( e - mail ) ; troy combs ( e - mail ) ; ' shilling , aaron ( a . r . ) ' ; amy pickle\r\n( e - mail )\r\nsubject : fw : fw : gap gift certificates\r\nif this doesn ' t work i ' m soory for wasting everyones precious time ! what ' s\r\nup !\r\n- - - - - original message - - - - -\r\nfrom : donnie vandeven sutton , charlie ; sutton , brenda ; sutton , billy ;\r\nrichardson , tiffany ; morgan , amy ; michelle bailey ; marshall , florence ;\r\nkassim , janan ; eshleman , trisha ; crum , lesley ; chevis , tonya ; black , jenn\r\nsubject : fw : fw : gap gift certificates\r\n- - - - - original message - - - - -\r\nfrom : katiebc >\r\nto : kathy > ; sace brown\r\n> ; mary\r\nclaude glass > ; mama > ; kelly lee > ; glen brown > ; ginny tucker >\r\ndate : tuesday , march 07 , 2000 5 : 56 pm\r\nsubject : fw : fw : gap gift certificates\r\n- - - - - original message - - - - -\r\nfrom : creative images >\r\nto : cornfkgirl 55 @ aol . com > ; terree\r\nskovack @ summitbank . com > ; saran 2201 @ aol . com\r\n> ; nrcandles @ aol . com > ; lisa grayo > ; jborgl 000 @ enter . net\r\n> ; ' fossesca , gina ' > ; betsy basgall\r\n>\r\ndate : saturday , february 26 , 2000 6 : 00 pm\r\nsubject : fw : fw : gap gift certificates\r\n- - - - - original message - - - - -\r\nfrom : cross , thomas g .\r\nto : bill etkin ( e - mail ) ; billy ( e - mail )\r\n; cali ( e - mail ) ;\r\ndanny ( e - mail ) ; jake ( e - mail )\r\n; klonis ( e - mail )\r\n; kuch ( e - mail ) ; laff ( e - mail )\r\n; lawson\r\n( e - mail ) ; lori ( e - mail ) ; mark murray\r\n( e - mail ) ; paula\r\n( e - mail ) ; ragu ( e - mail ) ; scott hoagburg ( e - mail )\r\n; tom kerr\r\n( e - mail ) ; walrus ( e - mail )\r\nsent : wednesday , february 23 , 2000 11 : 13 am\r\nsubject : fw : fw : gap gift certificates\r\n- - - - - original message - - - - -\r\nfrom : deanna lenchak [ mailto : d _ lenchak @ hotmail . com\r\n]\r\nsent : wednesday , february 23 , 2000 1 : 37 pm\r\nto : lsgoodrich @ aol . com ; dgoldstein @ alloy . com\r\n;\r\nhelato 0 @ msx . kraft . geis . com ;\r\nvoreilll @ rodalepress . com ;\r\njennifer . devers @ columbia . ppdi . com\r\n; dtolearyl 3 @ hotmail . com ;\r\nfbcampbell @ hotmail . com ;\r\nmorganj @ email . chop . edu ; njsnoop @ aol . com\r\n;\r\nglamesta @ hrads . com ; june 30 _ 73 @ hotmail . com\r\n; redsgilmore @ yahoo . com\r\n;\r\ntgcross @ delinvest . com ; eesmith @ delinvest . com\r\n; saegerr @ iconus . com\r\n;\r\nkathnkirk @ aol . com ; glcarbo @ delinvest . com\r\n; gerdman @ delinvest . com\r\n;\r\nktrifiletti @ philamuseum . org ;\r\ncbuynak @ mail . phila . kl 2 . pa . us ;\r\nhmurray @ ingfunds . com ; katemiddle @ aol . com\r\n; kathyrnl @ hotmail . com\r\n;\r\nkherncane @ acsysinc . com ;\r\nmarybeth . oleary @ bms . com ;\r\nsandra _ luckowski @ strategicweather . com\r\n; segeorge @ delinvest . com\r\n;\r\ntimothy _ oleary @ gmaccm . com\r\nsubject : fwd : fw : gap gift certificates\r\n> from : njsnoop @ aol . com\r\n> to : jaca 527 @ aol . com , bwestrich @ hotmail . com\r\n, prc 246 @ aol . com ,\r\n> d _ lenchak @ hotmail . com , tanzo 44 @ aol . com\r\n, dscoppin @ aol . com ,\r\n> ced 423 @ aol . com , potseo 07 @ aol . com\r\n, glamesta @ hrads . com ,\r\n> gabbol 999 @ aol . com , ecushorty 26 @ yahoo . com\r\n, ff 74 @ aol . com ,\r\n> ajax 991107 @ aol . com , jen . brown @ huntoon . com\r\n, jgaughran @ syscom - inc . com\r\n,\r\n> katemiddle @ aol . com , kdavis @ coadgroup . com\r\n, kristen 327 @ hotmail . com\r\n,\r\n> leahd 75 @ aol . com , jgrehl @ advanstar . com\r\n, kattr 51 @ aol . com ,\r\n> sandra _ luckowski @ strategicweather . com\r\n> subject : fwd : fw : gap gift certificates\r\n> date : tue , 22 feb 2000 23 : 16 : 25 est\r\n>\r\n>\r\nget your private , free email at http : / / www . hotmail . com\r\n_ _ _ _ _\r\nmessage - id : >\r\nfrom : dscoppin @ aol . com\r\nto : dadams @ foodtv . com , daveadaml @ aol . com\r\n, ajax 991107 @ aol . com\r\n,\r\nbemor @ worldnet . att . net ,\r\nrabogal 23 @ aol . com , yadil 31 @ hotmail . com\r\n,\r\ndcoppin @ erac . com , njsnoop @ aol . com\r\n, kevin _ grimstead @ peoplemag . com\r\n,\r\nleshell @ prodigy . net ,\r\nkeshawn . a . mccleod @ tst . tracor . com ,\r\nshammara @ hotmail . com , luvlee 9538 @ aol . com\r\n, kmccleod @ yahoo . com\r\n,\r\nram 312 @ gateway . net ,\r\nraywilliamsl 0 @ hotmail . com ,\r\ncquerol 714 @ aol . com ,\r\nmrascoe @ midd . sps . kl 2 . va . us ,\r\nkarwood @ hotmail . com , salisbo @ alpha . ecsu . edu\r\n,\r\ntuneloc @ hotmail . com , mbso 8 @ aol . com\r\n, aonee @ zdnetmail . com ,\r\nrsol 732412 @ aol . com , weslypipesl @ excite . com\r\n, twill @ aol . com ,\r\nahhaprol @ aol . com\r\nsubject : fwd : fw : gap gift certificates\r\ndate : tue , 22 feb 2000 13 : 44 : 16 - 0500\r\nmime - version : 1 . 0\r\nx - mailer : internet mail service ( 5 . 5 . 2448 . 0 )\r\ncontent - type : message / rfc 822\r\nmessage - id :\r\nfrom : \" adams , david \" >\r\nto : \" ' tusgar _ hefa @ newyorklife . com ' \"\r\n> ,\r\n\" ' anna _ wong @ newyorklife . com ' \" > ,\r\n\" ' tara _ felton @ am . newyorklife . com '\r\n\" > ,\r\n\" ' chantale _ olivier @ am . newyorklife . com '\r\n\"\r\n> , \"\r\n' andrews _ tara @ jpmorgan . com ' \"\r\n> , \"\r\n' pconnor @ bridge . com ' \" > ,\r\n\" romano , carmine \" > , \"\r\n' dscoppin @ aol . com ' \"\r\n>\r\nsubject : fw : gap gift certificates\r\ndate : tue , 22 feb 2000 10 : 22 : 15 - 0500\r\nmime - version : 1 . 0\r\nx - mailer : internet mail service ( 5 . 5 . 2448 . 0 )\r\ncontent - type : text / plain\r\n- - - - - original message - - - - -\r\nfrom : infante , teresa\r\nsent : friday , february 18 , 2000 5 : 20 pm\r\nto : adams , david ; beckles , michelle ; cindy cammon ; diaz , josh ; jones ,\r\ntanya ; moseley , joe ; daniel , stephanie ; clarke - porter , althea ;\r\nsepulveda , maria\r\nsubject : fw : gap gift certificates\r\n- - - - - original message - - - - -\r\nfrom : angel l . vale jr . [ mailto : toro 94 @ excite . com\r\n]\r\nsent : thursday , february 17 , 2000 1 : 27 pm\r\nto : anthony aldano ; jimenez 57 @ aol . com ;\r\naleon @ related . com ;\r\nwolivare @ stern . nyu . edu ; jqd 3093 @ is 3 . nyu . edu\r\n; rh 7 @ stern . nyu . edu\r\n;\r\nwo 200 @ is 5 . nyu . edu ; aherrera @ stevens - tech . edu\r\n; aaldano @ hotmail . com\r\n;\r\ngardell - b @ rocketmail . com ;\r\nrobert . cardona @ bcjsystems . com ;\r\ndrjc 8297 @ aol . com ; angel . vale @ bigfoot . com\r\n; oscarvelez @ aol . com\r\n;\r\nlavillalon @ launidadlatina . org ;\r\naachecar @ usa . net ; lul - step @ egroups . com\r\ncc : mgbabyface @ aol . com ; safire 906 @ aol . com\r\n; lpcarden @ phjw . com ;\r\nkasper _ 8 @ yahoo . com ; rubyl 32 @ excite . com\r\nsubject : gap gift certificates\r\nsubject : gap certificates\r\nhey guys , i finally found one that is true ! i went down to the\r\ngap myself and redeemed my gift certificates already ! ! ! i sent\r\nenough e - mails to get over two hundred dollars worth of clothes from\r\nthe gap ! you know , with all the crap sent over the mail , it is good to\r\nknow that something finally rings true in this environment of virtual\r\ndeception . send it to everyone you know , and you too can have a whole new\r\nwardrobe , courtesy of the gap ! isn ' t it grand ?\r\nhi ! my name is janelle mccan , founder of the gap .\r\nyou have probably heard about the e - mail from abercrombie and fitch offering\r\ntwenty five dollar gift certificates to every five people you sent that\r\nletter to . my question is : did it work ? most of you who tried it will\r\nprobably say no .\r\nbut this letter is not prank like others you have experienced . i am offering\r\nthirty five dollar gift certificates to every seven people you send this to .\r\nwhen you have finished sending this letter to as many people as you wish , a\r\nscreen will come up . it will tell you how much you have earned in gap gift\r\ncertificates . print that screen out and bring it to your local gap store .\r\nthe sales clerk will give you your certificates and you can shop baby ! this\r\nis a sales promotion to get our name out to young people around the world .\r\nwe\r\nbelieve this project can be a success , but only with your help .\r\nthank you for your support !\r\nsincerely ,\r\njanelle mccan\r\nfounder of gap\r\nget 100 % free internet access powered by excite\r\nvisit http : / / freeworld . excite . com\r\n- attl . htm",
         "0"
        ]
       ],
       "shape": {
        "columns": 4,
        "rows": 5171
       }
      },
      "text/html": [
       "<div>\n",
       "<style scoped>\n",
       "    .dataframe tbody tr th:only-of-type {\n",
       "        vertical-align: middle;\n",
       "    }\n",
       "\n",
       "    .dataframe tbody tr th {\n",
       "        vertical-align: top;\n",
       "    }\n",
       "\n",
       "    .dataframe thead th {\n",
       "        text-align: right;\n",
       "    }\n",
       "</style>\n",
       "<table border=\"1\" class=\"dataframe\">\n",
       "  <thead>\n",
       "    <tr style=\"text-align: right;\">\n",
       "      <th></th>\n",
       "      <th>Unnamed: 0</th>\n",
       "      <th>label</th>\n",
       "      <th>text</th>\n",
       "      <th>label_num</th>\n",
       "    </tr>\n",
       "  </thead>\n",
       "  <tbody>\n",
       "    <tr>\n",
       "      <th>0</th>\n",
       "      <td>605</td>\n",
       "      <td>ham</td>\n",
       "      <td>Subject: enron methanol ; meter # : 988291\\r\\n...</td>\n",
       "      <td>0</td>\n",
       "    </tr>\n",
       "    <tr>\n",
       "      <th>1</th>\n",
       "      <td>2349</td>\n",
       "      <td>ham</td>\n",
       "      <td>Subject: hpl nom for january 9 , 2001\\r\\n( see...</td>\n",
       "      <td>0</td>\n",
       "    </tr>\n",
       "    <tr>\n",
       "      <th>2</th>\n",
       "      <td>3624</td>\n",
       "      <td>ham</td>\n",
       "      <td>Subject: neon retreat\\r\\nho ho ho , we ' re ar...</td>\n",
       "      <td>0</td>\n",
       "    </tr>\n",
       "    <tr>\n",
       "      <th>3</th>\n",
       "      <td>4685</td>\n",
       "      <td>spam</td>\n",
       "      <td>Subject: photoshop , windows , office . cheap ...</td>\n",
       "      <td>1</td>\n",
       "    </tr>\n",
       "    <tr>\n",
       "      <th>4</th>\n",
       "      <td>2030</td>\n",
       "      <td>ham</td>\n",
       "      <td>Subject: re : indian springs\\r\\nthis deal is t...</td>\n",
       "      <td>0</td>\n",
       "    </tr>\n",
       "    <tr>\n",
       "      <th>...</th>\n",
       "      <td>...</td>\n",
       "      <td>...</td>\n",
       "      <td>...</td>\n",
       "      <td>...</td>\n",
       "    </tr>\n",
       "    <tr>\n",
       "      <th>5166</th>\n",
       "      <td>1518</td>\n",
       "      <td>ham</td>\n",
       "      <td>Subject: put the 10 on the ft\\r\\nthe transport...</td>\n",
       "      <td>0</td>\n",
       "    </tr>\n",
       "    <tr>\n",
       "      <th>5167</th>\n",
       "      <td>404</td>\n",
       "      <td>ham</td>\n",
       "      <td>Subject: 3 / 4 / 2000 and following noms\\r\\nhp...</td>\n",
       "      <td>0</td>\n",
       "    </tr>\n",
       "    <tr>\n",
       "      <th>5168</th>\n",
       "      <td>2933</td>\n",
       "      <td>ham</td>\n",
       "      <td>Subject: calpine daily gas nomination\\r\\n&gt;\\r\\n...</td>\n",
       "      <td>0</td>\n",
       "    </tr>\n",
       "    <tr>\n",
       "      <th>5169</th>\n",
       "      <td>1409</td>\n",
       "      <td>ham</td>\n",
       "      <td>Subject: industrial worksheets for august 2000...</td>\n",
       "      <td>0</td>\n",
       "    </tr>\n",
       "    <tr>\n",
       "      <th>5170</th>\n",
       "      <td>4807</td>\n",
       "      <td>spam</td>\n",
       "      <td>Subject: important online banking alert\\r\\ndea...</td>\n",
       "      <td>1</td>\n",
       "    </tr>\n",
       "  </tbody>\n",
       "</table>\n",
       "<p>5171 rows × 4 columns</p>\n",
       "</div>"
      ],
      "text/plain": [
       "      Unnamed: 0 label                                               text  \\\n",
       "0            605   ham  Subject: enron methanol ; meter # : 988291\\r\\n...   \n",
       "1           2349   ham  Subject: hpl nom for january 9 , 2001\\r\\n( see...   \n",
       "2           3624   ham  Subject: neon retreat\\r\\nho ho ho , we ' re ar...   \n",
       "3           4685  spam  Subject: photoshop , windows , office . cheap ...   \n",
       "4           2030   ham  Subject: re : indian springs\\r\\nthis deal is t...   \n",
       "...          ...   ...                                                ...   \n",
       "5166        1518   ham  Subject: put the 10 on the ft\\r\\nthe transport...   \n",
       "5167         404   ham  Subject: 3 / 4 / 2000 and following noms\\r\\nhp...   \n",
       "5168        2933   ham  Subject: calpine daily gas nomination\\r\\n>\\r\\n...   \n",
       "5169        1409   ham  Subject: industrial worksheets for august 2000...   \n",
       "5170        4807  spam  Subject: important online banking alert\\r\\ndea...   \n",
       "\n",
       "      label_num  \n",
       "0             0  \n",
       "1             0  \n",
       "2             0  \n",
       "3             1  \n",
       "4             0  \n",
       "...         ...  \n",
       "5166          0  \n",
       "5167          0  \n",
       "5168          0  \n",
       "5169          0  \n",
       "5170          1  \n",
       "\n",
       "[5171 rows x 4 columns]"
      ]
     },
     "execution_count": 3,
     "metadata": {},
     "output_type": "execute_result"
    }
   ],
   "source": [
    "df=pd.read_csv('spam_ham_dataset.csv')\n",
    "df"
   ]
  },
  {
   "cell_type": "code",
   "execution_count": 4,
   "metadata": {},
   "outputs": [
    {
     "data": {
      "text/plain": [
       "<Figure size 1000x600 with 0 Axes>"
      ]
     },
     "execution_count": 4,
     "metadata": {},
     "output_type": "execute_result"
    },
    {
     "data": {
      "text/plain": [
       "<Figure size 1000x600 with 0 Axes>"
      ]
     },
     "metadata": {},
     "output_type": "display_data"
    }
   ],
   "source": [
    "plt.figure(figsize=(10,6))"
   ]
  },
  {
   "cell_type": "code",
   "execution_count": 5,
   "metadata": {},
   "outputs": [],
   "source": [
    "df['text']=df['text'].apply(lambda x: x.replace('\\r\\n',' '))\n"
   ]
  },
  {
   "cell_type": "code",
   "execution_count": 6,
   "metadata": {},
   "outputs": [
    {
     "data": {
      "text/plain": [
       "\"Subject: neon retreat ho ho ho , we ' re around to that most wonderful time of the year - - - neon leaders retreat time ! i know that this time of year is extremely hectic , and that it ' s tough to think about anything past the holidays , but life does go on past the week of december 25 through january 1 , and that ' s what i ' d like you to think about for a minute . on the calender that i handed out at the beginning of the fall semester , the retreat was scheduled for the weekend of january 5 - 6 . but because of a youth ministers conference that brad and dustin are connected with that week , we ' re going to change the date to the following weekend , january 12 - 13 . now comes the part you need to think about . i think we all agree that it ' s important for us to get together and have some time to recharge our batteries before we get to far into the spring semester , but it can be a lot of trouble and difficult for us to get away without kids , etc . so , brad came up with a potential alternative for how we can get together on that weekend , and then you can let me know which you prefer . the first option would be to have a retreat similar to what we ' ve done the past several years . this year we could go to the heartland country inn ( www . . com ) outside of brenham . it ' s a nice place , where we ' d have a 13 - bedroom and a 5 - bedroom house side by side . it ' s in the country , real relaxing , but also close to brenham and only about one hour and 15 minutes from here . we can golf , shop in the antique and craft stores in brenham , eat dinner together at the ranch , and spend time with each other . we ' d meet on saturday , and then return on sunday morning , just like what we ' ve done in the past . the second option would be to stay here in houston , have dinner together at a nice restaurant , and then have dessert and a time for visiting and recharging at one of our homes on that saturday evening . this might be easier , but the trade off would be that we wouldn ' t have as much time together . i ' ll let you decide . email me back with what would be your preference , and of course if you ' re available on that weekend . the democratic process will prevail - - majority vote will rule ! let me hear from you as soon as possible , preferably by the end of the weekend . and if the vote doesn ' t go your way , no complaining allowed ( like i tend to do ! ) have a great weekend , great golf , great fishing , great shopping , or whatever makes you happy ! bobby\""
      ]
     },
     "execution_count": 6,
     "metadata": {},
     "output_type": "execute_result"
    }
   ],
   "source": [
    "df.text.iloc[2]"
   ]
  },
  {
   "cell_type": "code",
   "execution_count": 7,
   "metadata": {},
   "outputs": [
    {
     "name": "stdout",
     "output_type": "stream",
     "text": [
      "<class 'pandas.core.frame.DataFrame'>\n",
      "RangeIndex: 5171 entries, 0 to 5170\n",
      "Data columns (total 4 columns):\n",
      " #   Column      Non-Null Count  Dtype \n",
      "---  ------      --------------  ----- \n",
      " 0   Unnamed: 0  5171 non-null   int64 \n",
      " 1   label       5171 non-null   object\n",
      " 2   text        5171 non-null   object\n",
      " 3   label_num   5171 non-null   int64 \n",
      "dtypes: int64(2), object(2)\n",
      "memory usage: 161.7+ KB\n"
     ]
    }
   ],
   "source": [
    "df.info()"
   ]
  },
  {
   "cell_type": "code",
   "execution_count": 8,
   "metadata": {},
   "outputs": [],
   "source": [
    "stemmer=PorterStemmer()\n",
    "corpus=[]\n",
    "stopwords_set=set(stopwords.words('english'))\n",
    "for i in range(len(df)):\n",
    "    text=df['text'].iloc[i].lower()\n",
    "    text=text.translate(str.maketrans('','',string.punctuation)).split()\n",
    "    text=[stemmer.stem(word) for word in text if word not in stopwords_set] \n",
    "    text=' '.join(text)\n",
    "    corpus.append(text)"
   ]
  },
  {
   "cell_type": "code",
   "execution_count": 9,
   "metadata": {},
   "outputs": [
    {
     "data": {
      "text/plain": [
       "\"Subject: enron methanol ; meter # : 988291 this is a follow up to the note i gave you on monday , 4 / 3 / 00 { preliminary flow data provided by daren } . please override pop ' s daily volume { presently zero } to reflect daily activity you can obtain from gas control . this change is needed asap for economics purposes .\""
      ]
     },
     "execution_count": 9,
     "metadata": {},
     "output_type": "execute_result"
    }
   ],
   "source": [
    "df['text'].iloc[0]"
   ]
  },
  {
   "cell_type": "code",
   "execution_count": 10,
   "metadata": {},
   "outputs": [
    {
     "data": {
      "text/plain": [
       "'subject enron methanol meter 988291 follow note gave monday 4 3 00 preliminari flow data provid daren pleas overrid pop daili volum present zero reflect daili activ obtain ga control chang need asap econom purpos'"
      ]
     },
     "execution_count": 10,
     "metadata": {},
     "output_type": "execute_result"
    }
   ],
   "source": [
    "corpus[0]"
   ]
  },
  {
   "cell_type": "code",
   "execution_count": 11,
   "metadata": {},
   "outputs": [],
   "source": [
    "vectorizer=CountVectorizer()\n",
    "X=vectorizer.fit_transform(corpus).toarray()\n",
    "y=df.label_num\n",
    "X_train,X_test,y_train,y_test=train_test_split(X,y,test_size=0.2,random_state=42)"
   ]
  },
  {
   "cell_type": "code",
   "execution_count": 12,
   "metadata": {},
   "outputs": [
    {
     "data": {
      "text/html": [
       "<style>#sk-container-id-1 {\n",
       "  /* Definition of color scheme common for light and dark mode */\n",
       "  --sklearn-color-text: black;\n",
       "  --sklearn-color-line: gray;\n",
       "  /* Definition of color scheme for unfitted estimators */\n",
       "  --sklearn-color-unfitted-level-0: #fff5e6;\n",
       "  --sklearn-color-unfitted-level-1: #f6e4d2;\n",
       "  --sklearn-color-unfitted-level-2: #ffe0b3;\n",
       "  --sklearn-color-unfitted-level-3: chocolate;\n",
       "  /* Definition of color scheme for fitted estimators */\n",
       "  --sklearn-color-fitted-level-0: #f0f8ff;\n",
       "  --sklearn-color-fitted-level-1: #d4ebff;\n",
       "  --sklearn-color-fitted-level-2: #b3dbfd;\n",
       "  --sklearn-color-fitted-level-3: cornflowerblue;\n",
       "\n",
       "  /* Specific color for light theme */\n",
       "  --sklearn-color-text-on-default-background: var(--sg-text-color, var(--theme-code-foreground, var(--jp-content-font-color1, black)));\n",
       "  --sklearn-color-background: var(--sg-background-color, var(--theme-background, var(--jp-layout-color0, white)));\n",
       "  --sklearn-color-border-box: var(--sg-text-color, var(--theme-code-foreground, var(--jp-content-font-color1, black)));\n",
       "  --sklearn-color-icon: #696969;\n",
       "\n",
       "  @media (prefers-color-scheme: dark) {\n",
       "    /* Redefinition of color scheme for dark theme */\n",
       "    --sklearn-color-text-on-default-background: var(--sg-text-color, var(--theme-code-foreground, var(--jp-content-font-color1, white)));\n",
       "    --sklearn-color-background: var(--sg-background-color, var(--theme-background, var(--jp-layout-color0, #111)));\n",
       "    --sklearn-color-border-box: var(--sg-text-color, var(--theme-code-foreground, var(--jp-content-font-color1, white)));\n",
       "    --sklearn-color-icon: #878787;\n",
       "  }\n",
       "}\n",
       "\n",
       "#sk-container-id-1 {\n",
       "  color: var(--sklearn-color-text);\n",
       "}\n",
       "\n",
       "#sk-container-id-1 pre {\n",
       "  padding: 0;\n",
       "}\n",
       "\n",
       "#sk-container-id-1 input.sk-hidden--visually {\n",
       "  border: 0;\n",
       "  clip: rect(1px 1px 1px 1px);\n",
       "  clip: rect(1px, 1px, 1px, 1px);\n",
       "  height: 1px;\n",
       "  margin: -1px;\n",
       "  overflow: hidden;\n",
       "  padding: 0;\n",
       "  position: absolute;\n",
       "  width: 1px;\n",
       "}\n",
       "\n",
       "#sk-container-id-1 div.sk-dashed-wrapped {\n",
       "  border: 1px dashed var(--sklearn-color-line);\n",
       "  margin: 0 0.4em 0.5em 0.4em;\n",
       "  box-sizing: border-box;\n",
       "  padding-bottom: 0.4em;\n",
       "  background-color: var(--sklearn-color-background);\n",
       "}\n",
       "\n",
       "#sk-container-id-1 div.sk-container {\n",
       "  /* jupyter's `normalize.less` sets `[hidden] { display: none; }`\n",
       "     but bootstrap.min.css set `[hidden] { display: none !important; }`\n",
       "     so we also need the `!important` here to be able to override the\n",
       "     default hidden behavior on the sphinx rendered scikit-learn.org.\n",
       "     See: https://github.com/scikit-learn/scikit-learn/issues/21755 */\n",
       "  display: inline-block !important;\n",
       "  position: relative;\n",
       "}\n",
       "\n",
       "#sk-container-id-1 div.sk-text-repr-fallback {\n",
       "  display: none;\n",
       "}\n",
       "\n",
       "div.sk-parallel-item,\n",
       "div.sk-serial,\n",
       "div.sk-item {\n",
       "  /* draw centered vertical line to link estimators */\n",
       "  background-image: linear-gradient(var(--sklearn-color-text-on-default-background), var(--sklearn-color-text-on-default-background));\n",
       "  background-size: 2px 100%;\n",
       "  background-repeat: no-repeat;\n",
       "  background-position: center center;\n",
       "}\n",
       "\n",
       "/* Parallel-specific style estimator block */\n",
       "\n",
       "#sk-container-id-1 div.sk-parallel-item::after {\n",
       "  content: \"\";\n",
       "  width: 100%;\n",
       "  border-bottom: 2px solid var(--sklearn-color-text-on-default-background);\n",
       "  flex-grow: 1;\n",
       "}\n",
       "\n",
       "#sk-container-id-1 div.sk-parallel {\n",
       "  display: flex;\n",
       "  align-items: stretch;\n",
       "  justify-content: center;\n",
       "  background-color: var(--sklearn-color-background);\n",
       "  position: relative;\n",
       "}\n",
       "\n",
       "#sk-container-id-1 div.sk-parallel-item {\n",
       "  display: flex;\n",
       "  flex-direction: column;\n",
       "}\n",
       "\n",
       "#sk-container-id-1 div.sk-parallel-item:first-child::after {\n",
       "  align-self: flex-end;\n",
       "  width: 50%;\n",
       "}\n",
       "\n",
       "#sk-container-id-1 div.sk-parallel-item:last-child::after {\n",
       "  align-self: flex-start;\n",
       "  width: 50%;\n",
       "}\n",
       "\n",
       "#sk-container-id-1 div.sk-parallel-item:only-child::after {\n",
       "  width: 0;\n",
       "}\n",
       "\n",
       "/* Serial-specific style estimator block */\n",
       "\n",
       "#sk-container-id-1 div.sk-serial {\n",
       "  display: flex;\n",
       "  flex-direction: column;\n",
       "  align-items: center;\n",
       "  background-color: var(--sklearn-color-background);\n",
       "  padding-right: 1em;\n",
       "  padding-left: 1em;\n",
       "}\n",
       "\n",
       "\n",
       "/* Toggleable style: style used for estimator/Pipeline/ColumnTransformer box that is\n",
       "clickable and can be expanded/collapsed.\n",
       "- Pipeline and ColumnTransformer use this feature and define the default style\n",
       "- Estimators will overwrite some part of the style using the `sk-estimator` class\n",
       "*/\n",
       "\n",
       "/* Pipeline and ColumnTransformer style (default) */\n",
       "\n",
       "#sk-container-id-1 div.sk-toggleable {\n",
       "  /* Default theme specific background. It is overwritten whether we have a\n",
       "  specific estimator or a Pipeline/ColumnTransformer */\n",
       "  background-color: var(--sklearn-color-background);\n",
       "}\n",
       "\n",
       "/* Toggleable label */\n",
       "#sk-container-id-1 label.sk-toggleable__label {\n",
       "  cursor: pointer;\n",
       "  display: block;\n",
       "  width: 100%;\n",
       "  margin-bottom: 0;\n",
       "  padding: 0.5em;\n",
       "  box-sizing: border-box;\n",
       "  text-align: center;\n",
       "}\n",
       "\n",
       "#sk-container-id-1 label.sk-toggleable__label-arrow:before {\n",
       "  /* Arrow on the left of the label */\n",
       "  content: \"▸\";\n",
       "  float: left;\n",
       "  margin-right: 0.25em;\n",
       "  color: var(--sklearn-color-icon);\n",
       "}\n",
       "\n",
       "#sk-container-id-1 label.sk-toggleable__label-arrow:hover:before {\n",
       "  color: var(--sklearn-color-text);\n",
       "}\n",
       "\n",
       "/* Toggleable content - dropdown */\n",
       "\n",
       "#sk-container-id-1 div.sk-toggleable__content {\n",
       "  max-height: 0;\n",
       "  max-width: 0;\n",
       "  overflow: hidden;\n",
       "  text-align: left;\n",
       "  /* unfitted */\n",
       "  background-color: var(--sklearn-color-unfitted-level-0);\n",
       "}\n",
       "\n",
       "#sk-container-id-1 div.sk-toggleable__content.fitted {\n",
       "  /* fitted */\n",
       "  background-color: var(--sklearn-color-fitted-level-0);\n",
       "}\n",
       "\n",
       "#sk-container-id-1 div.sk-toggleable__content pre {\n",
       "  margin: 0.2em;\n",
       "  border-radius: 0.25em;\n",
       "  color: var(--sklearn-color-text);\n",
       "  /* unfitted */\n",
       "  background-color: var(--sklearn-color-unfitted-level-0);\n",
       "}\n",
       "\n",
       "#sk-container-id-1 div.sk-toggleable__content.fitted pre {\n",
       "  /* unfitted */\n",
       "  background-color: var(--sklearn-color-fitted-level-0);\n",
       "}\n",
       "\n",
       "#sk-container-id-1 input.sk-toggleable__control:checked~div.sk-toggleable__content {\n",
       "  /* Expand drop-down */\n",
       "  max-height: 200px;\n",
       "  max-width: 100%;\n",
       "  overflow: auto;\n",
       "}\n",
       "\n",
       "#sk-container-id-1 input.sk-toggleable__control:checked~label.sk-toggleable__label-arrow:before {\n",
       "  content: \"▾\";\n",
       "}\n",
       "\n",
       "/* Pipeline/ColumnTransformer-specific style */\n",
       "\n",
       "#sk-container-id-1 div.sk-label input.sk-toggleable__control:checked~label.sk-toggleable__label {\n",
       "  color: var(--sklearn-color-text);\n",
       "  background-color: var(--sklearn-color-unfitted-level-2);\n",
       "}\n",
       "\n",
       "#sk-container-id-1 div.sk-label.fitted input.sk-toggleable__control:checked~label.sk-toggleable__label {\n",
       "  background-color: var(--sklearn-color-fitted-level-2);\n",
       "}\n",
       "\n",
       "/* Estimator-specific style */\n",
       "\n",
       "/* Colorize estimator box */\n",
       "#sk-container-id-1 div.sk-estimator input.sk-toggleable__control:checked~label.sk-toggleable__label {\n",
       "  /* unfitted */\n",
       "  background-color: var(--sklearn-color-unfitted-level-2);\n",
       "}\n",
       "\n",
       "#sk-container-id-1 div.sk-estimator.fitted input.sk-toggleable__control:checked~label.sk-toggleable__label {\n",
       "  /* fitted */\n",
       "  background-color: var(--sklearn-color-fitted-level-2);\n",
       "}\n",
       "\n",
       "#sk-container-id-1 div.sk-label label.sk-toggleable__label,\n",
       "#sk-container-id-1 div.sk-label label {\n",
       "  /* The background is the default theme color */\n",
       "  color: var(--sklearn-color-text-on-default-background);\n",
       "}\n",
       "\n",
       "/* On hover, darken the color of the background */\n",
       "#sk-container-id-1 div.sk-label:hover label.sk-toggleable__label {\n",
       "  color: var(--sklearn-color-text);\n",
       "  background-color: var(--sklearn-color-unfitted-level-2);\n",
       "}\n",
       "\n",
       "/* Label box, darken color on hover, fitted */\n",
       "#sk-container-id-1 div.sk-label.fitted:hover label.sk-toggleable__label.fitted {\n",
       "  color: var(--sklearn-color-text);\n",
       "  background-color: var(--sklearn-color-fitted-level-2);\n",
       "}\n",
       "\n",
       "/* Estimator label */\n",
       "\n",
       "#sk-container-id-1 div.sk-label label {\n",
       "  font-family: monospace;\n",
       "  font-weight: bold;\n",
       "  display: inline-block;\n",
       "  line-height: 1.2em;\n",
       "}\n",
       "\n",
       "#sk-container-id-1 div.sk-label-container {\n",
       "  text-align: center;\n",
       "}\n",
       "\n",
       "/* Estimator-specific */\n",
       "#sk-container-id-1 div.sk-estimator {\n",
       "  font-family: monospace;\n",
       "  border: 1px dotted var(--sklearn-color-border-box);\n",
       "  border-radius: 0.25em;\n",
       "  box-sizing: border-box;\n",
       "  margin-bottom: 0.5em;\n",
       "  /* unfitted */\n",
       "  background-color: var(--sklearn-color-unfitted-level-0);\n",
       "}\n",
       "\n",
       "#sk-container-id-1 div.sk-estimator.fitted {\n",
       "  /* fitted */\n",
       "  background-color: var(--sklearn-color-fitted-level-0);\n",
       "}\n",
       "\n",
       "/* on hover */\n",
       "#sk-container-id-1 div.sk-estimator:hover {\n",
       "  /* unfitted */\n",
       "  background-color: var(--sklearn-color-unfitted-level-2);\n",
       "}\n",
       "\n",
       "#sk-container-id-1 div.sk-estimator.fitted:hover {\n",
       "  /* fitted */\n",
       "  background-color: var(--sklearn-color-fitted-level-2);\n",
       "}\n",
       "\n",
       "/* Specification for estimator info (e.g. \"i\" and \"?\") */\n",
       "\n",
       "/* Common style for \"i\" and \"?\" */\n",
       "\n",
       ".sk-estimator-doc-link,\n",
       "a:link.sk-estimator-doc-link,\n",
       "a:visited.sk-estimator-doc-link {\n",
       "  float: right;\n",
       "  font-size: smaller;\n",
       "  line-height: 1em;\n",
       "  font-family: monospace;\n",
       "  background-color: var(--sklearn-color-background);\n",
       "  border-radius: 1em;\n",
       "  height: 1em;\n",
       "  width: 1em;\n",
       "  text-decoration: none !important;\n",
       "  margin-left: 1ex;\n",
       "  /* unfitted */\n",
       "  border: var(--sklearn-color-unfitted-level-1) 1pt solid;\n",
       "  color: var(--sklearn-color-unfitted-level-1);\n",
       "}\n",
       "\n",
       ".sk-estimator-doc-link.fitted,\n",
       "a:link.sk-estimator-doc-link.fitted,\n",
       "a:visited.sk-estimator-doc-link.fitted {\n",
       "  /* fitted */\n",
       "  border: var(--sklearn-color-fitted-level-1) 1pt solid;\n",
       "  color: var(--sklearn-color-fitted-level-1);\n",
       "}\n",
       "\n",
       "/* On hover */\n",
       "div.sk-estimator:hover .sk-estimator-doc-link:hover,\n",
       ".sk-estimator-doc-link:hover,\n",
       "div.sk-label-container:hover .sk-estimator-doc-link:hover,\n",
       ".sk-estimator-doc-link:hover {\n",
       "  /* unfitted */\n",
       "  background-color: var(--sklearn-color-unfitted-level-3);\n",
       "  color: var(--sklearn-color-background);\n",
       "  text-decoration: none;\n",
       "}\n",
       "\n",
       "div.sk-estimator.fitted:hover .sk-estimator-doc-link.fitted:hover,\n",
       ".sk-estimator-doc-link.fitted:hover,\n",
       "div.sk-label-container:hover .sk-estimator-doc-link.fitted:hover,\n",
       ".sk-estimator-doc-link.fitted:hover {\n",
       "  /* fitted */\n",
       "  background-color: var(--sklearn-color-fitted-level-3);\n",
       "  color: var(--sklearn-color-background);\n",
       "  text-decoration: none;\n",
       "}\n",
       "\n",
       "/* Span, style for the box shown on hovering the info icon */\n",
       ".sk-estimator-doc-link span {\n",
       "  display: none;\n",
       "  z-index: 9999;\n",
       "  position: relative;\n",
       "  font-weight: normal;\n",
       "  right: .2ex;\n",
       "  padding: .5ex;\n",
       "  margin: .5ex;\n",
       "  width: min-content;\n",
       "  min-width: 20ex;\n",
       "  max-width: 50ex;\n",
       "  color: var(--sklearn-color-text);\n",
       "  box-shadow: 2pt 2pt 4pt #999;\n",
       "  /* unfitted */\n",
       "  background: var(--sklearn-color-unfitted-level-0);\n",
       "  border: .5pt solid var(--sklearn-color-unfitted-level-3);\n",
       "}\n",
       "\n",
       ".sk-estimator-doc-link.fitted span {\n",
       "  /* fitted */\n",
       "  background: var(--sklearn-color-fitted-level-0);\n",
       "  border: var(--sklearn-color-fitted-level-3);\n",
       "}\n",
       "\n",
       ".sk-estimator-doc-link:hover span {\n",
       "  display: block;\n",
       "}\n",
       "\n",
       "/* \"?\"-specific style due to the `<a>` HTML tag */\n",
       "\n",
       "#sk-container-id-1 a.estimator_doc_link {\n",
       "  float: right;\n",
       "  font-size: 1rem;\n",
       "  line-height: 1em;\n",
       "  font-family: monospace;\n",
       "  background-color: var(--sklearn-color-background);\n",
       "  border-radius: 1rem;\n",
       "  height: 1rem;\n",
       "  width: 1rem;\n",
       "  text-decoration: none;\n",
       "  /* unfitted */\n",
       "  color: var(--sklearn-color-unfitted-level-1);\n",
       "  border: var(--sklearn-color-unfitted-level-1) 1pt solid;\n",
       "}\n",
       "\n",
       "#sk-container-id-1 a.estimator_doc_link.fitted {\n",
       "  /* fitted */\n",
       "  border: var(--sklearn-color-fitted-level-1) 1pt solid;\n",
       "  color: var(--sklearn-color-fitted-level-1);\n",
       "}\n",
       "\n",
       "/* On hover */\n",
       "#sk-container-id-1 a.estimator_doc_link:hover {\n",
       "  /* unfitted */\n",
       "  background-color: var(--sklearn-color-unfitted-level-3);\n",
       "  color: var(--sklearn-color-background);\n",
       "  text-decoration: none;\n",
       "}\n",
       "\n",
       "#sk-container-id-1 a.estimator_doc_link.fitted:hover {\n",
       "  /* fitted */\n",
       "  background-color: var(--sklearn-color-fitted-level-3);\n",
       "}\n",
       "</style><div id=\"sk-container-id-1\" class=\"sk-top-container\"><div class=\"sk-text-repr-fallback\"><pre>BernoulliNB()</pre><b>In a Jupyter environment, please rerun this cell to show the HTML representation or trust the notebook. <br />On GitHub, the HTML representation is unable to render, please try loading this page with nbviewer.org.</b></div><div class=\"sk-container\" hidden><div class=\"sk-item\"><div class=\"sk-estimator fitted sk-toggleable\"><input class=\"sk-toggleable__control sk-hidden--visually\" id=\"sk-estimator-id-1\" type=\"checkbox\" checked><label for=\"sk-estimator-id-1\" class=\"sk-toggleable__label fitted sk-toggleable__label-arrow fitted\">&nbsp;&nbsp;BernoulliNB<a class=\"sk-estimator-doc-link fitted\" rel=\"noreferrer\" target=\"_blank\" href=\"https://scikit-learn.org/1.5/modules/generated/sklearn.naive_bayes.BernoulliNB.html\">?<span>Documentation for BernoulliNB</span></a><span class=\"sk-estimator-doc-link fitted\">i<span>Fitted</span></span></label><div class=\"sk-toggleable__content fitted\"><pre>BernoulliNB()</pre></div> </div></div></div></div>"
      ],
      "text/plain": [
       "BernoulliNB()"
      ]
     },
     "execution_count": 12,
     "metadata": {},
     "output_type": "execute_result"
    }
   ],
   "source": [
    "clf=RandomForestClassifier(n_jobs=-1)\n",
    "mb=MultinomialNB()\n",
    "gb=GaussianNB()\n",
    "bb=BernoulliNB()\n",
    "clf.fit(X_train,y_train)\n",
    "mb.fit(X_train,y_train)\n",
    "gb.fit(X_train,y_train)\n",
    "bb.fit(X_train,y_train)"
   ]
  },
  {
   "cell_type": "code",
   "execution_count": 13,
   "metadata": {},
   "outputs": [
    {
     "name": "stdout",
     "output_type": "stream",
     "text": [
      "Random Forest classifier:  0.9797101449275363\n",
      "Multinomial Gaussian Bayes:  0.9748792270531401\n",
      "Gaussian Bayes:  0.9497584541062802\n",
      "Bernoulli Bayes:  0.8560386473429952\n"
     ]
    }
   ],
   "source": [
    "print(\"Random Forest classifier: \",clf.score(X_test,y_test))\n",
    "print(\"Multinomial Gaussian Bayes: \",mb.score(X_test,y_test))\n",
    "print(\"Gaussian Bayes: \",gb.score(X_test,y_test))\n",
    "print(\"Bernoulli Bayes: \",bb.score(X_test,y_test))"
   ]
  },
  {
   "cell_type": "code",
   "execution_count": 14,
   "metadata": {},
   "outputs": [],
   "source": [
    "email_to_classify=df.text.values[10]"
   ]
  },
  {
   "cell_type": "code",
   "execution_count": 15,
   "metadata": {},
   "outputs": [
    {
     "data": {
      "text/plain": [
       "\"Subject: vocable % rnd - word asceticism vcsc - brand new stock for your attention vocalscape inc - the stock symbol is : vcsc vcsc will be our top stock pick for the month of april - stock expected to bounce to 12 cents level the stock hit its all time low and will bounce back stock is going to explode in next 5 days - watch it soar watch the stock go crazy this and next week . breaking news - vocalscape inc . announces agreement to resell mix network services current price : $ 0 . 025 we expect projected speculative price in next 5 days : $ 0 . 12 we expect projected speculative price in next 15 days : $ 0 . 15 vocalscape networks inc . is building a company that ' s revolutionizing the telecommunications industry with the most affordable phone systems , hardware , online software , and rates in canada and the us . vocalscape , a company with global reach , is receiving international attention for the development of voice over ip ( voip ) application solutions , including the award - winning eyefontm , a softphone for real - time pc - to - phone . we are an advanced implementer of pbx systems for companies , call centers , itsps and service providers . vocalscape has created software and interactive solutions revolving around global communications and data voice convergence . companies use vocalscape for voice over internet protocol applications like ip pbxs , softswitches , pc 2 phone and web 2 phone , providing real - time human interaction and information delivery over the internet . through vocalscape ' s solutions , businesses can offer a quality voice service to anywhere in the world at rates that are significantly lower than current long distance charges . we develop software to run voip networks , and sell , install and service our own branded voip gateways and gatekeeper control software . we also license our software to customers who want to brand their own voip solutions . vocalscape is committed to making great technology ; challenging the status quo , and building a 21 st century company that changes the way businesses communicate and interact through the internet . current price : $ 0 . 025 we expect projected speculative price in next 5 days : $ 0 . 12 we expect projected speculative price in next 15 days : $ 0 . 15 breaking news - vocalscape inc . announces agreement to resell mix network services - - - - - - - - - - katonah , n . y . , / prnewswire - firstcall via comtex / - - vocalscape , inc . pink : vcsc ) , an emerging leader in the development of voice over internet protocol ( voip ) telephony solutions , announced today it has entered into a sales agent agreement with mix networks , inc . a voip enhanced telephony service provider . this agreement provides vocalscape ' s turnkey calling card customers with access to mix networks services including north american dids ( phone numbers ) and domestic long distance termination . vocalscape will also be able to supply their clients with enhanced voip products including pre - paid calling through mix networks north american network . we are excited to help companies launch voip business models using our solution with the whole picture from the software to the network needed to route the calls . mix networks gives us the ability to offer wholesale monthly flat rate plans and dids to our clients that allow for us to build business models like popular voip companies such as vonage and packet 8 , says ryan gibson , vp vocalscape networks some legal words before you continue : information within this email contains forward looking statements within the meaning of section 27 a of the securities act of 1933 and section 21 b of the securities exchange act of 1934 . any statements that express or involve discussions with respect to predictions , goals , expectations , beliefs , plans , projections , objectives , assumptions or future events or performance are not statements of historical fact and may be forward looking statements . forward looking statements are based on expectations , estimates and projections at the time the statements are made that involve a number of risks and uncertainties which could cause actual results or events to differ materially from those presently anticipated . forward looking statements in this action may be identified through the use of words such as : projects , foresee , expects , estimates , believes , understands will , part of : anticipates , or that by statements indicating certain actions may , could , or might occur . all information provided within this email pertaining to investing , stocks , securities must be understood as information provided and not investment advice . emerging equity alert advises all readers and subscribers to seek advice from a registered professional securities representative before deciding to trade in stocks featured within this email . none of the material within this report shall be construed as any kind of investment advice . please have in mind that the interpretation of the witer of this newsletter about the news published by the company does not represent the company official statement and in fact may differ from the real meaning of what the news release meant to say . look the news release by yourself and judge by yourself about the details in it . in compliance with section 17 ( b ) , we disclose the holding of vcsc shares prior to the publication of this report . be aware of an inherent conflict of interest resulting from such holdings due to our intent to profit from the liquidation of these shares . shares may be sold at any time , even after positive statements have been made regarding the above company . since we own shares , there is an inherent conflict of interest in our statements and opinions . readers of this publication are cautioned not to place undue reliance on forward - looking statements , which are based on certain assumptions and expectations involving various risks and uncertainties , that could cause results to differ materially from those set forth in the forward - looking statements . please be advised that nothing within this email shall constitute a solicitation or an invitation to get position in or sell any security mentioned herein . this newsletter is neither a registered investment advisor nor affiliated with any broker or dealer . this newsletter was paid $ 49000 from third party to send this report . all statements made are our express opinion only and should be treated as such . we may own , take position and sell any securities mentioned at any time . this report includes forward - looking statements within the meaning of the private securities litigation reform act of 1995 . these statements may include terms as projected speculative price expect , believe , may , will , soar move , undervalued and intend or similar terms . \""
      ]
     },
     "execution_count": 15,
     "metadata": {},
     "output_type": "execute_result"
    }
   ],
   "source": [
    "email_to_classify"
   ]
  },
  {
   "cell_type": "code",
   "execution_count": 16,
   "metadata": {},
   "outputs": [],
   "source": [
    "email_text=email_to_classify.lower().translate(str.maketrans('','',string.punctuation)).split()\n",
    "email_text=[stemmer.stem(word) for word in text if word not in stopwords_set]\n",
    "email_text=' '.join(email_text)\n",
    "email_corpus=[email_text]\n",
    "X_email=vectorizer.transform(email_corpus).toarray()"
   ]
  },
  {
   "cell_type": "code",
   "execution_count": 17,
   "metadata": {},
   "outputs": [
    {
     "data": {
      "text/plain": [
       "array([1], dtype=int64)"
      ]
     },
     "execution_count": 17,
     "metadata": {},
     "output_type": "execute_result"
    }
   ],
   "source": [
    "clf.predict(X_email)"
   ]
  },
  {
   "cell_type": "code",
   "execution_count": 18,
   "metadata": {},
   "outputs": [
    {
     "data": {
      "text/plain": [
       "1"
      ]
     },
     "execution_count": 18,
     "metadata": {},
     "output_type": "execute_result"
    }
   ],
   "source": [
    "df.label_num.iloc[10]"
   ]
  },
  {
   "cell_type": "code",
   "execution_count": 19,
   "metadata": {},
   "outputs": [],
   "source": [
    "import pickle\n",
    "filename = 'randomforrest_spam_model.sav'\n",
    "pickle.dump(clf, open(filename, 'wb'))"
   ]
  }
 ],
 "metadata": {
  "kernelspec": {
   "display_name": "base",
   "language": "python",
   "name": "python3"
  },
  "language_info": {
   "codemirror_mode": {
    "name": "ipython",
    "version": 3
   },
   "file_extension": ".py",
   "mimetype": "text/x-python",
   "name": "python",
   "nbconvert_exporter": "python",
   "pygments_lexer": "ipython3",
   "version": "3.12.7"
  }
 },
 "nbformat": 4,
 "nbformat_minor": 2
}
